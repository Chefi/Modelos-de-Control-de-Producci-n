{
 "cells": [
  {
   "cell_type": "code",
   "execution_count": 1,
   "id": "665971b3-dd37-49b8-bbb0-e28c953e8b22",
   "metadata": {},
   "outputs": [],
   "source": [
    "import numpy as np\n",
    "import pandas as pd"
   ]
  },
  {
   "cell_type": "code",
   "execution_count": 4,
   "id": "0093ffb9-bb34-4ee1-9b62-ca508f6baa80",
   "metadata": {},
   "outputs": [
    {
     "data": {
      "text/plain": [
       "array([0, 1, 2, 3, 4, 5])"
      ]
     },
     "execution_count": 4,
     "metadata": {},
     "output_type": "execute_result"
    }
   ],
   "source": [
    "tiempo = np.arange(0,6,1)\n",
    "tiempo"
   ]
  },
  {
   "cell_type": "code",
   "execution_count": 6,
   "id": "3a948a2e-2973-48c1-9bd6-715439118179",
   "metadata": {},
   "outputs": [
    {
     "data": {
      "text/plain": [
       "['NA', 850, 650, 2000, 1050, 650]"
      ]
     },
     "execution_count": 6,
     "metadata": {},
     "output_type": "execute_result"
    }
   ],
   "source": [
    "demanda = ['NA', 850,650,2000,1050,650]\n",
    "demanda"
   ]
  },
  {
   "cell_type": "code",
   "execution_count": 7,
   "id": "9b1bc697-96a0-41c0-873d-507a215369ed",
   "metadata": {},
   "outputs": [],
   "source": [
    "nt = ['NA', 25, 23,24,23,28]"
   ]
  },
  {
   "cell_type": "code",
   "execution_count": 10,
   "id": "9612b7ec-b264-4ef6-919d-0c890f961096",
   "metadata": {},
   "outputs": [
    {
     "data": {
      "text/plain": [
       "array([60.,  0.,  0.,  0.,  0.,  0.])"
      ]
     },
     "execution_count": 10,
     "metadata": {},
     "output_type": "execute_result"
    }
   ],
   "source": [
    "It = np.zeros(6)\n",
    "It[0] = 60\n",
    "It"
   ]
  },
  {
   "cell_type": "code",
   "execution_count": 11,
   "id": "1cc41f6c-437c-4e8d-9618-04ce2ec1cc06",
   "metadata": {},
   "outputs": [],
   "source": [
    "Wt = np.zeros(6)\n",
    "Wt[0] = 250"
   ]
  },
  {
   "cell_type": "code",
   "execution_count": 33,
   "id": "987f476a-f3b7-4cca-afcb-f9163ef46fe5",
   "metadata": {},
   "outputs": [],
   "source": [
    "Rp = np.zeros(6)\n",
    "Rp[2] = 50\n",
    "Rn = np.zeros(6)\n",
    "H = np.zeros(6)\n",
    "F = np.zeros(6)\n",
    "P = np.zeros(6)"
   ]
  },
  {
   "cell_type": "code",
   "execution_count": 34,
   "id": "bc7672f3-a5c3-4b3d-9884-70c39a65bf00",
   "metadata": {},
   "outputs": [],
   "source": [
    "K = 0.25"
   ]
  },
  {
   "cell_type": "code",
   "execution_count": 35,
   "id": "2326b512-9046-41f4-89f7-8c29d1d16266",
   "metadata": {},
   "outputs": [],
   "source": [
    "for t in range(1,6):\n",
    "    Rn[t] = demanda[t] - It[t-1] - Rp[t]\n",
    "    Wt[t] = Rn[t]/K/nt[t]\n",
    "    It[t] = It[t-1]+K*nt[t]*Wt[t]+Rp[t]-demanda[t]\n",
    "    if (Wt[t]-Wt[t-1] > 0):\n",
    "        H[t] = Wt[t]-Wt[t-1]\n",
    "        F[t] = 0\n",
    "    else:\n",
    "        H[t] = 0\n",
    "        F[t] =  Wt[t-1]-Wt[t]\n",
    "    P[t] = K*nt[t]*Wt[t]\n",
    "    "
   ]
  },
  {
   "cell_type": "code",
   "execution_count": 36,
   "id": "f2ae0373-35eb-4799-881f-a89240f492be",
   "metadata": {},
   "outputs": [
    {
     "data": {
      "text/plain": [
       "array([   0.,  790.,  600., 2000., 1050.,  650.])"
      ]
     },
     "execution_count": 36,
     "metadata": {},
     "output_type": "execute_result"
    }
   ],
   "source": [
    "Rn"
   ]
  },
  {
   "cell_type": "code",
   "execution_count": 37,
   "id": "af8f73de-80f2-4d95-b736-c4fd5029811e",
   "metadata": {},
   "outputs": [
    {
     "data": {
      "text/plain": [
       "array([250.        , 126.4       , 104.34782609, 333.33333333,\n",
       "       182.60869565,  92.85714286])"
      ]
     },
     "execution_count": 37,
     "metadata": {},
     "output_type": "execute_result"
    }
   ],
   "source": [
    "Wt"
   ]
  },
  {
   "cell_type": "code",
   "execution_count": 38,
   "id": "38620639-64f8-4969-ad0e-15d387de4d1e",
   "metadata": {},
   "outputs": [
    {
     "data": {
      "text/plain": [
       "array([60.,  0.,  0.,  0.,  0.,  0.])"
      ]
     },
     "execution_count": 38,
     "metadata": {},
     "output_type": "execute_result"
    }
   ],
   "source": [
    "It"
   ]
  },
  {
   "cell_type": "code",
   "execution_count": 39,
   "id": "9259e811-a26d-450a-8ffd-354cc8956912",
   "metadata": {},
   "outputs": [
    {
     "data": {
      "text/plain": [
       "array([  0.        ,   0.        ,   0.        , 228.98550725,\n",
       "         0.        ,   0.        ])"
      ]
     },
     "execution_count": 39,
     "metadata": {},
     "output_type": "execute_result"
    }
   ],
   "source": [
    "H"
   ]
  },
  {
   "cell_type": "code",
   "execution_count": 40,
   "id": "ba913c50-454c-4b6c-9665-7750eb9a6df2",
   "metadata": {},
   "outputs": [
    {
     "data": {
      "text/plain": [
       "array([  0.        , 123.6       ,  22.05217391,   0.        ,\n",
       "       150.72463768,  89.7515528 ])"
      ]
     },
     "execution_count": 40,
     "metadata": {},
     "output_type": "execute_result"
    }
   ],
   "source": [
    "F"
   ]
  },
  {
   "cell_type": "code",
   "execution_count": 41,
   "id": "d036b333-f59e-4124-a944-7f4ce3a885bb",
   "metadata": {},
   "outputs": [
    {
     "data": {
      "text/plain": [
       "array([   0.,  790.,  600., 2000., 1050.,  650.])"
      ]
     },
     "execution_count": 41,
     "metadata": {},
     "output_type": "execute_result"
    }
   ],
   "source": [
    "P"
   ]
  },
  {
   "cell_type": "code",
   "execution_count": null,
   "id": "aa2bdab3-b266-4f8c-a325-d19c9863de9d",
   "metadata": {},
   "outputs": [],
   "source": []
  }
 ],
 "metadata": {
  "kernelspec": {
   "display_name": "Python 3 (ipykernel)",
   "language": "python",
   "name": "python3"
  },
  "language_info": {
   "codemirror_mode": {
    "name": "ipython",
    "version": 3
   },
   "file_extension": ".py",
   "mimetype": "text/x-python",
   "name": "python",
   "nbconvert_exporter": "python",
   "pygments_lexer": "ipython3",
   "version": "3.11.10"
  }
 },
 "nbformat": 4,
 "nbformat_minor": 5
}
