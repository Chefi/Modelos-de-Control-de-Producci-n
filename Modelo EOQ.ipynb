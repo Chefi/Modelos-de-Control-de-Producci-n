{
 "cells": [
  {
   "cell_type": "markdown",
   "id": "35650f0b-43c3-41d9-a26b-1c29797cb54c",
   "metadata": {},
   "source": [
    "## Modelo EOQ"
   ]
  },
  {
   "cell_type": "markdown",
   "id": "f1488d6b-ae94-4fc7-b589-8712b330f48f",
   "metadata": {},
   "source": [
    "La cantidad económica de pedido (EOQ) es un problema tradicional en la gestión de inventarios atribuido a Ford Harris (1915). Este modelo de optimización tiene como objetivo identificar la cantidad de pedido que minimiza el costo total de mantener un artículo específico en el inventario, incluyendo los costos de pedir y de comprar o producir.\n",
    "\n",
    "Sea:\n",
    "\n",
    "* $c$ el costo unitario de compra o producción del producto, \n",
    "* $i$ la tasa anual de interés que incluye los costos financieros de oportunidad y los costos de almacenamiento y mantenimiento en bodega del producto, \n",
    "* $h = ic$ el costo anual de mantener un artículo, incluidos los cargos financieros,\n",
    "* $K$ el costo fijo de realizar y recibir un pedido, y\n",
    "* $\\lambda$ la demanda anual. \n",
    "\n",
    "Si se solicita una cantidad $Q$ del producto, como la demanda anual es $\\lambda$ y cuesta $K$ realizar un pedido, resulta en una cantidad de pedidos al año de $\\frac{\\lambda}{Q}$, con un costo total anual de  $K\\frac{\\lambda}{Q}$.\n",
    "El artículo en inventario tendrá un inventario promedio de $\\frac{Q}{2}$, incurriendo en un costo anual de mantenimiento de inventario de $h\\frac{Q}{2}$.\n",
    "Además, el costo total anual de compra o producción del producto es $c\\lambda$.\n",
    "\n",
    "Para minimizar el costo total anual, se debe entonces minimizar sobre valores no negativos de $Q$, la función\n",
    "\n",
    "$$ CT(Q) = K\\frac{\\lambda}{Q} + h\\frac{Q}{2} + c\\lambda $$\n",
    "\n",
    "$EOQ$ es la cantidad de $Q$ que minimiza $CT(Q)$.\n",
    "\n",
    "$$ EOQ = \\operatorname*{arg\\,min}_{Q \\gt 0} \\, CT (Q) = K\\frac{\\lambda}{Q} + h\\frac{Q}{2} + c\\lambda $$\n",
    "\n",
    "Para determinar el $EOQ$, se debe derivar la función $CT$ en relación con $Q$ e igualar a $0$:\n",
    "\n",
    "$$ \\frac{dCT}{dQ} = -\\frac{K\\lambda}{Q^2} + \\frac{h}{2} = 0 $$\n",
    "\n",
    "De donde:\n",
    "\n",
    "$$ EOQ = Q^{*}= \\sqrt{\\frac{2K\\lambda}{h}} $$\n",
    "\n",
    "Como el período de reaprovisionamiento $T$ es igual a \n",
    "\n",
    "$$ T = \\frac{Q}{\\lambda} $$\n",
    "\n",
    "Se deduce que el período óptimo de reaprovisionamiento es:\n",
    "\n",
    "$$ T^{*}= \\frac{EOQ}{\\lambda} = \\sqrt{\\frac{2K}{h\\lambda}} $$\n",
    "\n",
    "En el óptimo, los costos de ordenar y mantener inventario son iguales. Además, el costo total anual óptimo es:\n",
    "\n",
    "$$ CT^{*} = h Q^{*} + c\\lambda = \\sqrt{2K\\lambda h} + c\\lambda $$\n",
    "\n"
   ]
  },
  {
   "cell_type": "code",
   "execution_count": null,
   "id": "2ddf70ba-1dc1-4d08-a93a-2262ac6f66e2",
   "metadata": {},
   "outputs": [],
   "source": [
    "import matplotlib.pyplot as plt\n",
    "import numpy as np\n",
    "import pandas as pd\n",
    "\n",
    "i = 5/100 # tasa anual de mantenimiento de inventario\n",
    "c =  15 # costo unitario del producto\n",
    "h = i*c  # cost of holding one item for one year\n",
    "K = 500.0  # cost of processing one order\n",
    "lambd = 10000.0  # annual demand\n",
    "\n",
    "eoq = np.sqrt(2 * K * lambd / h)\n",
    "fopt = np.sqrt(2 * K * lambd * h) # costo óptimo\n",
    "print(f\"Optimal order size = {eoq:0.2f} items with optimal cost {fopt:0.2f}\")\n",
    "\n",
    "q = np.linspace(100, 10000, 1000)\n",
    "f = h * q / 2 + K * lambd / q\n",
    "\n",
    "q1 = eoq*np.sqrt(2)\n",
    "f1 = h * q1 / 2 + K * lambd / q1\n",
    "\n",
    "q2 = eoq/np.sqrt(2)\n",
    "f2 = h * q2 / 2 + K * lambd / q2\n",
    "\n",
    "\n",
    "\n",
    "fig, ax = plt.subplots(figsize=(8, 6))\n",
    "plt.rcParams.update({\"font.size\": 16})\n",
    "ax.plot(q, f, lw=3, label=\"total cost\")\n",
    "ax.plot(q, h * q / 2, \"--\", lw=2, label=\"holding costs\")\n",
    "ax.plot(q, K * lambd / q, \"--\", lw=2, label=\"ordering costs\")\n",
    "ax.set_title(\"Ordering an Holding Annual Cost\")\n",
    "ax.set_xlabel(\"q = order size\")\n",
    "ax.set_ylabel(\"cost\")\n",
    "ax.plot(eoq, fopt, \"ro\", ms=10, label=\"EOQ\")\n",
    "\n",
    "ax.plot(q1, f1, \"yo\", ms=10)\n",
    "ax.plot(q2, f2, \"yo\", ms=10)\n",
    "ax.legend(loc=\"upper right\")\n",
    "ax.annotate(\n",
    "    f\"EOQ = {eoq:0.2f}\",\n",
    "    xy=(eoq, 0),\n",
    "    xytext=(1.2 * eoq, 0.15 * fopt),\n",
    "    arrowprops=dict(facecolor=\"black\", shrink=0.15, width=1, headwidth=6),\n",
    ")\n",
    "\n",
    "ax.annotate(\n",
    "    f\"CTopt = {fopt:0.2f}\",\n",
    "    xy=(eoq, fopt),\n",
    "    xytext=(1.2 * eoq, 0.85* fopt),\n",
    "    arrowprops=dict(facecolor=\"black\", shrink=0.15, width=1, headwidth=6),\n",
    ")\n",
    "\n",
    "ax.annotate(\n",
    "    f\"C = {f1:0.2f}\",\n",
    "    xy=(q1, f1),\n",
    "    xytext=(1.2 * q1, 1* f1),\n",
    "    arrowprops=dict(facecolor=\"black\", shrink=0.15, width=1, headwidth=6),\n",
    ")\n",
    "\n",
    "ax.annotate(\n",
    "    f\"C = {f2:0.2f}\",\n",
    "    xy=(q2, f2),\n",
    "    xytext=(1.2 * q2, 1.15* f2),\n",
    "    arrowprops=dict(facecolor=\"black\", shrink=0.15, width=1, headwidth=6),\n",
    ")\n",
    "\n",
    "ax.plot([eoq, eoq, 0], [0, fopt, fopt], \"r--\", lw=2)\n",
    "ax.plot([0, q1], [f1, f1], \"y--\", lw=2)\n",
    "ax.set_xlim(0, 10000)\n",
    "ax.set_ylim(0, 6000)\n",
    "plt.tight_layout()\n",
    "plt.show()"
   ]
  },
  {
   "cell_type": "markdown",
   "id": "dcd685a3-500d-41f6-a151-5106db7305a6",
   "metadata": {},
   "source": [
    "## Análisis sobre los costos anuales de ordenar y mantener"
   ]
  },
  {
   "cell_type": "markdown",
   "id": "fda6a557-fe59-4514-b5cb-45844fa1dcfb",
   "metadata": {},
   "source": [
    "El costo total anual de ordenar y mantener, en función del tamaño de lote $Q$ es:\n",
    "\n",
    "$$ K\\frac{\\lambda}{Q} + h\\frac{Q}{2} $$\n",
    "\n",
    "Como el valor óptimo de este costo es $hQ^{*}$, se puede calcular el cociente entre el costo total anual de ordenar y mantener y su valor óptimo como:\n",
    "\n",
    "$$ \\frac{K\\frac{\\lambda}{Q} + h\\frac{Q}{2}}{hQ^{*}} = \\frac{K\\lambda}{hQQ^{*}} + \\frac{Q}{2Q^{*}} = \\frac{Q^{*}Q^{*}}{2QQ^{*}} + \\frac{Q}{2Q^{*}}= \n",
    "\\frac{1}{2}(\\frac{Q^{*}}{Q} + \\frac{Q}{Q^{*}})$$"
   ]
  },
  {
   "cell_type": "markdown",
   "id": "dcc1e4f4-ca01-46d3-be91-3db1a154583b",
   "metadata": {},
   "source": [
    "Si $Q = \\frac{Q^{*}}{\\sqrt{2}}$ o $Q = Q^{*}\\sqrt{2}$, este cociente es igual a $1.060660172$\n"
   ]
  },
  {
   "cell_type": "markdown",
   "id": "493b3408-4156-4429-a2b3-2756837a3a5d",
   "metadata": {},
   "source": [
    "Esto significa que en el intervalo entre $0.71Q^{*}$ y $1.41Q^{*}$, el costo total anual de ordenar y mantener se incrementa máximo en $6.07\\%$. Esto representa una rango bastante amplio de valores para el tamaño de lote $Q$ que proporcionan costos totales bajos."
   ]
  },
  {
   "cell_type": "code",
   "execution_count": null,
   "id": "2f223d49-177e-4edf-923c-92d4d06e0874",
   "metadata": {},
   "outputs": [],
   "source": []
  }
 ],
 "metadata": {
  "kernelspec": {
   "display_name": "Python 3 (ipykernel)",
   "language": "python",
   "name": "python3"
  },
  "language_info": {
   "codemirror_mode": {
    "name": "ipython",
    "version": 3
   },
   "file_extension": ".py",
   "mimetype": "text/x-python",
   "name": "python",
   "nbconvert_exporter": "python",
   "pygments_lexer": "ipython3",
   "version": "3.11.10"
  }
 },
 "nbformat": 4,
 "nbformat_minor": 5
}
