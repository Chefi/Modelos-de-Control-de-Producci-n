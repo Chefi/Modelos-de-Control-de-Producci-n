{
 "cells": [
  {
   "cell_type": "code",
   "execution_count": null,
   "id": "aade2183-fffa-48f8-a63a-17fa5be2b539",
   "metadata": {},
   "outputs": [],
   "source": []
  }
 ],
 "metadata": {
  "kernelspec": {
   "display_name": "",
   "name": ""
  },
  "language_info": {
   "name": ""
  }
 },
 "nbformat": 4,
 "nbformat_minor": 5
}
