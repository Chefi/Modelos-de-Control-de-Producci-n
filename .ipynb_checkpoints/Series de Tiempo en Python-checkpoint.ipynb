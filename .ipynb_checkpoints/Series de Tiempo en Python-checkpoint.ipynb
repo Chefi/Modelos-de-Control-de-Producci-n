{
 "cells": [
  {
   "cell_type": "markdown",
   "id": "ab974735-db73-4643-a191-6808cd5f1a56",
   "metadata": {},
   "source": [
    "## Paquetes necesarios"
   ]
  },
  {
   "cell_type": "code",
   "execution_count": 2,
   "id": "85065b01-b0d4-48df-ad45-2fc4357d6e94",
   "metadata": {},
   "outputs": [],
   "source": [
    "import pandas as pd \n",
    "import numpy as np \n",
    "import matplotlib.pyplot as plt \n",
    "import statsmodels.graphics.tsaplots as sgt \n",
    "import statsmodels.tsa.stattools as sts \n",
    "from statsmodels.tsa.seasonal import seasonal_decompose\n",
    "import seaborn as sns\n",
    "sns.set()"
   ]
  },
  {
   "cell_type": "markdown",
   "id": "5a820910-d1c0-463f-9312-d543d8df01c8",
   "metadata": {},
   "source": [
    "## Cargar el paquete Yahoo Finance"
   ]
  },
  {
   "cell_type": "code",
   "execution_count": 8,
   "id": "8b9e4c6d-5b17-487c-8d5b-c9ce2c632ad5",
   "metadata": {},
   "outputs": [
    {
     "name": "stdout",
     "output_type": "stream",
     "text": [
      "Requirement already satisfied: yfinance in c:\\users\\ftorr\\anaconda3\\lib\\site-packages (0.2.44)\n",
      "Requirement already satisfied: pandas>=1.3.0 in c:\\users\\ftorr\\anaconda3\\lib\\site-packages (from yfinance) (2.0.3)\n",
      "Requirement already satisfied: numpy>=1.16.5 in c:\\users\\ftorr\\anaconda3\\lib\\site-packages (from yfinance) (1.24.3)\n",
      "Requirement already satisfied: requests>=2.31 in c:\\users\\ftorr\\anaconda3\\lib\\site-packages (from yfinance) (2.31.0)\n",
      "Requirement already satisfied: multitasking>=0.0.7 in c:\\users\\ftorr\\anaconda3\\lib\\site-packages (from yfinance) (0.0.11)\n",
      "Requirement already satisfied: lxml>=4.9.1 in c:\\users\\ftorr\\anaconda3\\lib\\site-packages (from yfinance) (4.9.3)\n",
      "Requirement already satisfied: platformdirs>=2.0.0 in c:\\users\\ftorr\\anaconda3\\lib\\site-packages (from yfinance) (3.10.0)\n",
      "Requirement already satisfied: pytz>=2022.5 in c:\\users\\ftorr\\anaconda3\\lib\\site-packages (from yfinance) (2023.3.post1)\n",
      "Requirement already satisfied: frozendict>=2.3.4 in c:\\users\\ftorr\\anaconda3\\lib\\site-packages (from yfinance) (2.4.6)\n",
      "Requirement already satisfied: peewee>=3.16.2 in c:\\users\\ftorr\\anaconda3\\lib\\site-packages (from yfinance) (3.17.7)\n",
      "Requirement already satisfied: beautifulsoup4>=4.11.1 in c:\\users\\ftorr\\anaconda3\\lib\\site-packages (from yfinance) (4.12.2)\n",
      "Requirement already satisfied: html5lib>=1.1 in c:\\users\\ftorr\\anaconda3\\lib\\site-packages (from yfinance) (1.1)\n",
      "Requirement already satisfied: soupsieve>1.2 in c:\\users\\ftorr\\anaconda3\\lib\\site-packages (from beautifulsoup4>=4.11.1->yfinance) (2.4)\n",
      "Requirement already satisfied: six>=1.9 in c:\\users\\ftorr\\anaconda3\\lib\\site-packages (from html5lib>=1.1->yfinance) (1.16.0)\n",
      "Requirement already satisfied: webencodings in c:\\users\\ftorr\\anaconda3\\lib\\site-packages (from html5lib>=1.1->yfinance) (0.5.1)\n",
      "Requirement already satisfied: python-dateutil>=2.8.2 in c:\\users\\ftorr\\anaconda3\\lib\\site-packages (from pandas>=1.3.0->yfinance) (2.8.2)\n",
      "Requirement already satisfied: tzdata>=2022.1 in c:\\users\\ftorr\\anaconda3\\lib\\site-packages (from pandas>=1.3.0->yfinance) (2023.3)\n",
      "Requirement already satisfied: charset-normalizer<4,>=2 in c:\\users\\ftorr\\anaconda3\\lib\\site-packages (from requests>=2.31->yfinance) (2.0.4)\n",
      "Requirement already satisfied: idna<4,>=2.5 in c:\\users\\ftorr\\anaconda3\\lib\\site-packages (from requests>=2.31->yfinance) (3.4)\n",
      "Requirement already satisfied: urllib3<3,>=1.21.1 in c:\\users\\ftorr\\anaconda3\\lib\\site-packages (from requests>=2.31->yfinance) (1.26.16)\n",
      "Requirement already satisfied: certifi>=2017.4.17 in c:\\users\\ftorr\\anaconda3\\lib\\site-packages (from requests>=2.31->yfinance) (2024.8.30)\n"
     ]
    }
   ],
   "source": [
    "!pip install yfinance"
   ]
  },
  {
   "cell_type": "code",
   "execution_count": 9,
   "id": "da8969af-8b18-412a-8b79-9234766b30cf",
   "metadata": {},
   "outputs": [],
   "source": [
    "def preprocessing_yf(symbol):\n",
    "  \n",
    "  #Importar los datos\n",
    "  df = yf.download(symbol).dropna()\n",
    "\n",
    "  #Renombrar\n",
    "  df.columns = [\"open\", \"high\", \"low\", \"close\", \"adj close\", \"volume\"]\n",
    "  df.index.name = \"time\"\n",
    "\n",
    "  # Eliminar la columna adj close\n",
    "  del df[\"adj close\"]\n",
    "\n",
    "  return df"
   ]
  },
  {
   "cell_type": "code",
   "execution_count": 12,
   "id": "fd69dbd7-3df8-4871-a9ca-55ea52af6d05",
   "metadata": {},
   "outputs": [],
   "source": [
    "import yfinance as yf\n",
    "import warnings\n",
    "warnings.filterwarnings(\"ignore\")"
   ]
  },
  {
   "cell_type": "markdown",
   "id": "e7aced2c-1cba-4f54-a2f9-bd00ab0eb743",
   "metadata": {},
   "source": [
    "### Descarga la serie de tiempo de la accción de Amazon"
   ]
  },
  {
   "cell_type": "code",
   "execution_count": 15,
   "id": "b724fe45-4b32-41d5-acd9-e9c5d4a09582",
   "metadata": {},
   "outputs": [
    {
     "name": "stderr",
     "output_type": "stream",
     "text": [
      "[*********************100%***********************]  1 of 1 completed\n"
     ]
    }
   ],
   "source": [
    "df = preprocessing_yf(\"AMZN\")"
   ]
  },
  {
   "cell_type": "code",
   "execution_count": 17,
   "id": "98724b44-4572-4e82-8b66-03812f32e830",
   "metadata": {},
   "outputs": [],
   "source": [
    "df=df.asfreq('b') #bussiness day\n",
    "df=df.fillna(method='ffill')"
   ]
  },
  {
   "cell_type": "code",
   "execution_count": 19,
   "id": "7991266e-50fd-4cc5-9a23-1291ef8d379c",
   "metadata": {},
   "outputs": [
    {
     "data": {
      "text/html": [
       "<div>\n",
       "<style scoped>\n",
       "    .dataframe tbody tr th:only-of-type {\n",
       "        vertical-align: middle;\n",
       "    }\n",
       "\n",
       "    .dataframe tbody tr th {\n",
       "        vertical-align: top;\n",
       "    }\n",
       "\n",
       "    .dataframe thead th {\n",
       "        text-align: right;\n",
       "    }\n",
       "</style>\n",
       "<table border=\"1\" class=\"dataframe\">\n",
       "  <thead>\n",
       "    <tr style=\"text-align: right;\">\n",
       "      <th></th>\n",
       "      <th>open</th>\n",
       "      <th>high</th>\n",
       "      <th>low</th>\n",
       "      <th>close</th>\n",
       "      <th>volume</th>\n",
       "    </tr>\n",
       "    <tr>\n",
       "      <th>time</th>\n",
       "      <th></th>\n",
       "      <th></th>\n",
       "      <th></th>\n",
       "      <th></th>\n",
       "      <th></th>\n",
       "    </tr>\n",
       "  </thead>\n",
       "  <tbody>\n",
       "    <tr>\n",
       "      <th>1997-05-15</th>\n",
       "      <td>0.121875</td>\n",
       "      <td>0.125000</td>\n",
       "      <td>0.096354</td>\n",
       "      <td>0.097917</td>\n",
       "      <td>1.443120e+09</td>\n",
       "    </tr>\n",
       "    <tr>\n",
       "      <th>1997-05-16</th>\n",
       "      <td>0.098438</td>\n",
       "      <td>0.098958</td>\n",
       "      <td>0.085417</td>\n",
       "      <td>0.086458</td>\n",
       "      <td>2.940000e+08</td>\n",
       "    </tr>\n",
       "    <tr>\n",
       "      <th>1997-05-19</th>\n",
       "      <td>0.088021</td>\n",
       "      <td>0.088542</td>\n",
       "      <td>0.081250</td>\n",
       "      <td>0.085417</td>\n",
       "      <td>1.221360e+08</td>\n",
       "    </tr>\n",
       "    <tr>\n",
       "      <th>1997-05-20</th>\n",
       "      <td>0.086458</td>\n",
       "      <td>0.087500</td>\n",
       "      <td>0.081771</td>\n",
       "      <td>0.081771</td>\n",
       "      <td>1.093440e+08</td>\n",
       "    </tr>\n",
       "    <tr>\n",
       "      <th>1997-05-21</th>\n",
       "      <td>0.081771</td>\n",
       "      <td>0.082292</td>\n",
       "      <td>0.068750</td>\n",
       "      <td>0.071354</td>\n",
       "      <td>3.770640e+08</td>\n",
       "    </tr>\n",
       "  </tbody>\n",
       "</table>\n",
       "</div>"
      ],
      "text/plain": [
       "                open      high       low     close        volume\n",
       "time                                                            \n",
       "1997-05-15  0.121875  0.125000  0.096354  0.097917  1.443120e+09\n",
       "1997-05-16  0.098438  0.098958  0.085417  0.086458  2.940000e+08\n",
       "1997-05-19  0.088021  0.088542  0.081250  0.085417  1.221360e+08\n",
       "1997-05-20  0.086458  0.087500  0.081771  0.081771  1.093440e+08\n",
       "1997-05-21  0.081771  0.082292  0.068750  0.071354  3.770640e+08"
      ]
     },
     "execution_count": 19,
     "metadata": {},
     "output_type": "execute_result"
    }
   ],
   "source": [
    "df.head()"
   ]
  },
  {
   "cell_type": "code",
   "execution_count": 21,
   "id": "02900717-f2ae-4e6b-a1e4-9094ee17bc0c",
   "metadata": {},
   "outputs": [
    {
     "data": {
      "text/html": [
       "<div>\n",
       "<style scoped>\n",
       "    .dataframe tbody tr th:only-of-type {\n",
       "        vertical-align: middle;\n",
       "    }\n",
       "\n",
       "    .dataframe tbody tr th {\n",
       "        vertical-align: top;\n",
       "    }\n",
       "\n",
       "    .dataframe thead th {\n",
       "        text-align: right;\n",
       "    }\n",
       "</style>\n",
       "<table border=\"1\" class=\"dataframe\">\n",
       "  <thead>\n",
       "    <tr style=\"text-align: right;\">\n",
       "      <th></th>\n",
       "      <th>open</th>\n",
       "      <th>high</th>\n",
       "      <th>low</th>\n",
       "      <th>close</th>\n",
       "      <th>volume</th>\n",
       "    </tr>\n",
       "    <tr>\n",
       "      <th>time</th>\n",
       "      <th></th>\n",
       "      <th></th>\n",
       "      <th></th>\n",
       "      <th></th>\n",
       "      <th></th>\n",
       "    </tr>\n",
       "  </thead>\n",
       "  <tbody>\n",
       "    <tr>\n",
       "      <th>2024-10-15</th>\n",
       "      <td>187.630005</td>\n",
       "      <td>188.410004</td>\n",
       "      <td>184.580002</td>\n",
       "      <td>187.690002</td>\n",
       "      <td>32178900.0</td>\n",
       "    </tr>\n",
       "    <tr>\n",
       "      <th>2024-10-16</th>\n",
       "      <td>187.050003</td>\n",
       "      <td>187.779999</td>\n",
       "      <td>185.610001</td>\n",
       "      <td>186.889999</td>\n",
       "      <td>23456800.0</td>\n",
       "    </tr>\n",
       "    <tr>\n",
       "      <th>2024-10-17</th>\n",
       "      <td>188.220001</td>\n",
       "      <td>188.940002</td>\n",
       "      <td>186.000000</td>\n",
       "      <td>187.529999</td>\n",
       "      <td>25039400.0</td>\n",
       "    </tr>\n",
       "    <tr>\n",
       "      <th>2024-10-18</th>\n",
       "      <td>187.149994</td>\n",
       "      <td>190.740005</td>\n",
       "      <td>186.279999</td>\n",
       "      <td>188.990005</td>\n",
       "      <td>37417700.0</td>\n",
       "    </tr>\n",
       "    <tr>\n",
       "      <th>2024-10-21</th>\n",
       "      <td>188.050003</td>\n",
       "      <td>189.460007</td>\n",
       "      <td>186.399994</td>\n",
       "      <td>189.070007</td>\n",
       "      <td>24612200.0</td>\n",
       "    </tr>\n",
       "  </tbody>\n",
       "</table>\n",
       "</div>"
      ],
      "text/plain": [
       "                  open        high         low       close      volume\n",
       "time                                                                  \n",
       "2024-10-15  187.630005  188.410004  184.580002  187.690002  32178900.0\n",
       "2024-10-16  187.050003  187.779999  185.610001  186.889999  23456800.0\n",
       "2024-10-17  188.220001  188.940002  186.000000  187.529999  25039400.0\n",
       "2024-10-18  187.149994  190.740005  186.279999  188.990005  37417700.0\n",
       "2024-10-21  188.050003  189.460007  186.399994  189.070007  24612200.0"
      ]
     },
     "execution_count": 21,
     "metadata": {},
     "output_type": "execute_result"
    }
   ],
   "source": [
    "df.tail()"
   ]
  },
  {
   "cell_type": "code",
   "execution_count": 23,
   "id": "8cc81297-212d-4b05-aec0-bc51188ea46c",
   "metadata": {},
   "outputs": [
    {
     "data": {
      "text/html": [
       "<div>\n",
       "<style scoped>\n",
       "    .dataframe tbody tr th:only-of-type {\n",
       "        vertical-align: middle;\n",
       "    }\n",
       "\n",
       "    .dataframe tbody tr th {\n",
       "        vertical-align: top;\n",
       "    }\n",
       "\n",
       "    .dataframe thead th {\n",
       "        text-align: right;\n",
       "    }\n",
       "</style>\n",
       "<table border=\"1\" class=\"dataframe\">\n",
       "  <thead>\n",
       "    <tr style=\"text-align: right;\">\n",
       "      <th></th>\n",
       "      <th>open</th>\n",
       "      <th>high</th>\n",
       "      <th>low</th>\n",
       "      <th>close</th>\n",
       "      <th>volume</th>\n",
       "    </tr>\n",
       "  </thead>\n",
       "  <tbody>\n",
       "    <tr>\n",
       "      <th>count</th>\n",
       "      <td>7158.000000</td>\n",
       "      <td>7158.000000</td>\n",
       "      <td>7158.000000</td>\n",
       "      <td>7158.000000</td>\n",
       "      <td>7.158000e+03</td>\n",
       "    </tr>\n",
       "    <tr>\n",
       "      <th>mean</th>\n",
       "      <td>38.536668</td>\n",
       "      <td>38.986682</td>\n",
       "      <td>38.047513</td>\n",
       "      <td>38.528991</td>\n",
       "      <td>1.361823e+08</td>\n",
       "    </tr>\n",
       "    <tr>\n",
       "      <th>std</th>\n",
       "      <td>55.074248</td>\n",
       "      <td>55.689865</td>\n",
       "      <td>54.393507</td>\n",
       "      <td>55.050869</td>\n",
       "      <td>1.367933e+08</td>\n",
       "    </tr>\n",
       "    <tr>\n",
       "      <th>min</th>\n",
       "      <td>0.070313</td>\n",
       "      <td>0.072396</td>\n",
       "      <td>0.065625</td>\n",
       "      <td>0.069792</td>\n",
       "      <td>9.744000e+06</td>\n",
       "    </tr>\n",
       "    <tr>\n",
       "      <th>25%</th>\n",
       "      <td>2.083250</td>\n",
       "      <td>2.131125</td>\n",
       "      <td>2.050000</td>\n",
       "      <td>2.087750</td>\n",
       "      <td>6.366650e+07</td>\n",
       "    </tr>\n",
       "    <tr>\n",
       "      <th>50%</th>\n",
       "      <td>8.838000</td>\n",
       "      <td>8.927000</td>\n",
       "      <td>8.716750</td>\n",
       "      <td>8.840500</td>\n",
       "      <td>1.007730e+08</td>\n",
       "    </tr>\n",
       "    <tr>\n",
       "      <th>75%</th>\n",
       "      <td>58.601875</td>\n",
       "      <td>58.925376</td>\n",
       "      <td>58.069126</td>\n",
       "      <td>58.466624</td>\n",
       "      <td>1.555940e+08</td>\n",
       "    </tr>\n",
       "    <tr>\n",
       "      <th>max</th>\n",
       "      <td>200.089996</td>\n",
       "      <td>201.199997</td>\n",
       "      <td>199.050003</td>\n",
       "      <td>200.000000</td>\n",
       "      <td>2.086584e+09</td>\n",
       "    </tr>\n",
       "  </tbody>\n",
       "</table>\n",
       "</div>"
      ],
      "text/plain": [
       "              open         high          low        close        volume\n",
       "count  7158.000000  7158.000000  7158.000000  7158.000000  7.158000e+03\n",
       "mean     38.536668    38.986682    38.047513    38.528991  1.361823e+08\n",
       "std      55.074248    55.689865    54.393507    55.050869  1.367933e+08\n",
       "min       0.070313     0.072396     0.065625     0.069792  9.744000e+06\n",
       "25%       2.083250     2.131125     2.050000     2.087750  6.366650e+07\n",
       "50%       8.838000     8.927000     8.716750     8.840500  1.007730e+08\n",
       "75%      58.601875    58.925376    58.069126    58.466624  1.555940e+08\n",
       "max     200.089996   201.199997   199.050003   200.000000  2.086584e+09"
      ]
     },
     "execution_count": 23,
     "metadata": {},
     "output_type": "execute_result"
    }
   ],
   "source": [
    "df.describe()"
   ]
  },
  {
   "cell_type": "code",
   "execution_count": 25,
   "id": "4b417776-c804-4a99-8a09-37e8be6cefcb",
   "metadata": {},
   "outputs": [
    {
     "data": {
      "image/png": "[encoded data removed]",
      "text/plain": [
       "<Figure size 2000x800 with 1 Axes>"
      ]
     },
     "metadata": {},
     "output_type": "display_data"
    }
   ],
   "source": [
    "df.close.plot(figsize=(20,8))\n",
    "plt.title(\"AMZ Prices\", size = 24)\n",
    "#plt.ylim(0,2300)\n",
    "plt.show()"
   ]
  },
  {
   "cell_type": "code",
   "execution_count": 27,
   "id": "7693c7e0-7c3e-4f23-8bfd-387e9da48631",
   "metadata": {},
   "outputs": [
    {
     "data": {
      "text/plain": [
       "<Axes: xlabel='time'>"
      ]
     },
     "execution_count": 27,
     "metadata": {},
     "output_type": "execute_result"
    },
    {
     "data": {
      "image/png": "[encoded data removed]",
      "text/plain": [
       "<Figure size 2000x800 with 1 Axes>"
      ]
     },
     "metadata": {},
     "output_type": "display_data"
    }
   ],
   "source": [
    "df[[\"close\"]].loc[\"2023\"].plot(figsize=(20,8))"
   ]
  },
  {
   "cell_type": "markdown",
   "id": "59f24843-7aad-4013-8360-5fdd1350133e",
   "metadata": {},
   "source": [
    "## Prueba de estacionalidad de la serie de tiempo"
   ]
  },
  {
   "cell_type": "markdown",
   "id": "c0cd9d06-6b26-4482-835d-7b73cd1067b8",
   "metadata": {},
   "source": [
    "Se calcula un estadístico de prueba ($\\lambda_0$), que también se llama estadístico de constraste.\n",
    "\n",
    "Este estadístico de prueba se compara con un valor crítico de la prueva ($\\lambda_{critico}$).\n",
    "\n",
    "Si $(\\lambda_0 < \\lambda_{critico})$ se rechaza $H_0$. Por tanto, la serie es estacionaria.\n",
    "\n",
    "Otra forma es calculando el $p_{valor}$ con el cual se obtiene evidencia a favor de la hipótesis nula.\n",
    "\n",
    "Si el $p_{valor}$ es cercano a cero, la probabilidad de aceptar la hipótesis nula es pequeña.\n",
    "\n",
    "$\\alpha =$ nivel de significancia.\n",
    "\n",
    "$1 - \\alpha =$ nivel de confianza.\n",
    "\n",
    "$H_0: $ La series no es estacionaria.\n",
    "\n",
    "Si $p_{valor} < \\alpha $ se rechaza $H_0$. Por tanto, la serie es estacionaria."
   ]
  },
  {
   "cell_type": "code",
   "execution_count": 64,
   "id": "4162af1a-d54f-4a3d-8f7c-34e24e3c8a24",
   "metadata": {},
   "outputs": [
    {
     "data": {
      "text/plain": [
       "(1.157205162897186,\n",
       " 0.995676454849642,\n",
       " 29,\n",
       " 7128,\n",
       " {'1%': -3.4312677408111187,\n",
       "  '5%': -2.861945568852914,\n",
       "  '10%': -2.566985880201976},\n",
       " 24468.743460537757)"
      ]
     },
     "execution_count": 64,
     "metadata": {},
     "output_type": "execute_result"
    }
   ],
   "source": [
    "vL = sts.adfuller(df.close)\n",
    "vL"
   ]
  },
  {
   "cell_type": "code",
   "execution_count": 69,
   "id": "897a4060-7bda-4232-960f-83dd8216c0fe",
   "metadata": {},
   "outputs": [
    {
     "name": "stdout",
     "output_type": "stream",
     "text": [
      "El estadístico de prueba es : 1.157205162897186\n"
     ]
    }
   ],
   "source": [
    "print(f'El estadístico de prueba es : {vL[0]}') # Estadístico de prueba"
   ]
  },
  {
   "cell_type": "code",
   "execution_count": 71,
   "id": "bbf8e270-6908-4c04-8718-275dd2bc44ee",
   "metadata": {},
   "outputs": [
    {
     "name": "stdout",
     "output_type": "stream",
     "text": [
      "El pvalor es : 0.995676454849642\n"
     ]
    }
   ],
   "source": [
    "print(f'El pvalor es : {vL[1]}')"
   ]
  },
  {
   "cell_type": "code",
   "execution_count": 73,
   "id": "de93d287-2334-418a-832c-388b41bb1a10",
   "metadata": {},
   "outputs": [
    {
     "name": "stdout",
     "output_type": "stream",
     "text": [
      "El período de tiempo en que se detecta autocorrelación es : 29\n"
     ]
    }
   ],
   "source": [
    "print(f'El período de tiempo en que se detecta autocorrelación es : {vL[2]}')"
   ]
  },
  {
   "cell_type": "code",
   "execution_count": 75,
   "id": "4f4a7bd8-316e-4975-8b19-6eb81cb461e0",
   "metadata": {},
   "outputs": [
    {
     "name": "stdout",
     "output_type": "stream",
     "text": [
      "La cantidad de datos en la serie de tiempos es : 7128\n"
     ]
    }
   ],
   "source": [
    "print(f'La cantidad de datos en la serie de tiempos es : {vL[3]}')"
   ]
  },
  {
   "cell_type": "code",
   "execution_count": 77,
   "id": "2e99f08d-4479-4599-ba8b-279c6f302774",
   "metadata": {},
   "outputs": [
    {
     "name": "stdout",
     "output_type": "stream",
     "text": [
      "Los valores críticos para cada nivel de significancia son : {'1%': -3.4312677408111187, '5%': -2.861945568852914, '10%': -2.566985880201976}\n"
     ]
    }
   ],
   "source": [
    "print(f'Los valores críticos para cada nivel de significancia son : {vL[4]}')"
   ]
  },
  {
   "cell_type": "code",
   "execution_count": 79,
   "id": "05352639-c555-481f-a68f-a94cdc920eae",
   "metadata": {},
   "outputs": [
    {
     "name": "stdout",
     "output_type": "stream",
     "text": [
      "El criterio de información maximizado es : 24468.743460537757\n"
     ]
    }
   ],
   "source": [
    "print(f'El criterio de información maximizado es : {vL[5]}')"
   ]
  },
  {
   "cell_type": "markdown",
   "id": "42f784cc-a7ba-40d2-a812-c5b24f2c11d1",
   "metadata": {},
   "source": [
    "Para un nivel de confianza del 95%, la serie no es estacionaria"
   ]
  },
  {
   "cell_type": "markdown",
   "id": "0b8e3d66-dfa8-40b6-adfd-169a2c69533f",
   "metadata": {},
   "source": [
    "$1.1637150167781993  = \\lambda_0 > -2.86194562577061 = \\lambda_{critico}$"
   ]
  },
  {
   "cell_type": "markdown",
   "id": "46e6ce70-6fcd-4a83-8f34-673cc2f76ccd",
   "metadata": {},
   "source": [
    "La $H_0: $ no debe ser rechazada."
   ]
  },
  {
   "cell_type": "markdown",
   "id": "2f359c1d-4bce-48df-a42f-13885b98c093",
   "metadata": {},
   "source": [
    "La serie NO es estacionaria"
   ]
  },
  {
   "cell_type": "code",
   "execution_count": 81,
   "id": "fc286505-d2ed-4ef2-87c1-bb868d26ea0f",
   "metadata": {},
   "outputs": [
    {
     "data": {
      "text/plain": [
       "(-1.1633548962789848,\n",
       " 0.6891576204336299,\n",
       " 2,\n",
       " 257,\n",
       " {'1%': -3.4560535712549925,\n",
       "  '5%': -2.8728527662442334,\n",
       "  '10%': -2.5727985212493754},\n",
       " 1118.6765775905042)"
      ]
     },
     "execution_count": 81,
     "metadata": {},
     "output_type": "execute_result"
    }
   ],
   "source": [
    "sts.adfuller(df[[\"close\"]].loc[\"2023\"])"
   ]
  },
  {
   "cell_type": "markdown",
   "id": "c53e6139-9c48-4634-b6c4-075e7131f973",
   "metadata": {},
   "source": [
    "## Descomposición de la serie en componentes"
   ]
  },
  {
   "cell_type": "code",
   "execution_count": null,
   "id": "442be25e-fe84-47e2-9406-843f0feaa89b",
   "metadata": {},
   "outputs": [],
   "source": [
    "s_dec_additive = seasonal_decompose(df[[\"close\"]].loc[\"2023\"], model = \"additive\")\n",
    "fig = s_dec_additive.plot();\n",
    "fig.set_size_inches((16, 9))\n",
    "# Tight layout to realign things\n",
    "fig.tight_layout()\n",
    "plt.show()"
   ]
  },
  {
   "cell_type": "markdown",
   "id": "0091a40d-d332-4818-ba7d-0162a76dc824",
   "metadata": {},
   "source": [
    "## Caminata aleatoria"
   ]
  },
  {
   "cell_type": "code",
   "execution_count": null,
   "id": "892a2508-e575-4ea1-8ca6-67a0f959704b",
   "metadata": {},
   "outputs": [],
   "source": [
    "steps = np.random.normal(loc=0, scale=1, size=len(df[[\"close\"]].loc[\"2023\"]))"
   ]
  },
  {
   "cell_type": "code",
   "execution_count": null,
   "id": "ac65fd58-3837-40b8-aa50-1ed95927f268",
   "metadata": {},
   "outputs": [],
   "source": [
    "steps.shape"
   ]
  },
  {
   "cell_type": "code",
   "execution_count": null,
   "id": "b9b01d9d-3fc0-4f74-90c5-274a4d1efaa7",
   "metadata": {},
   "outputs": [],
   "source": [
    "P = 100 + np.cumsum(steps)"
   ]
  },
  {
   "cell_type": "code",
   "execution_count": null,
   "id": "2abcfa3a-662e-45fd-98e4-2bd92ce9004d",
   "metadata": {},
   "outputs": [],
   "source": [
    "P = pd.DataFrame(P)"
   ]
  },
  {
   "cell_type": "code",
   "execution_count": null,
   "id": "e41cba04-ca65-427e-98bb-3dd06c96b919",
   "metadata": {},
   "outputs": [],
   "source": [
    "P.index =df[[\"close\"]].loc[\"2023\"].index"
   ]
  },
  {
   "cell_type": "code",
   "execution_count": null,
   "id": "5c8c5738-cd92-483d-8112-323597c90b85",
   "metadata": {},
   "outputs": [],
   "source": [
    "P.columns = [\"Caminata Aleatoria\"]"
   ]
  },
  {
   "cell_type": "code",
   "execution_count": null,
   "id": "432d58f7-29e4-407f-abea-38240990d693",
   "metadata": {},
   "outputs": [],
   "source": [
    "P"
   ]
  },
  {
   "cell_type": "code",
   "execution_count": null,
   "id": "6e7890c0-7b95-4390-b096-f90c36bb860f",
   "metadata": {},
   "outputs": [],
   "source": [
    "P.plot(figsize=(20,8))"
   ]
  },
  {
   "cell_type": "code",
   "execution_count": null,
   "id": "98ddc143-2616-40a4-87f4-8f1361e4ea60",
   "metadata": {},
   "outputs": [],
   "source": [
    "P[\"Serie\"] = df[[\"close\"]].loc[\"2023\"]"
   ]
  },
  {
   "cell_type": "code",
   "execution_count": null,
   "id": "250623cd-104b-4464-a4e1-428f83df6d34",
   "metadata": {},
   "outputs": [],
   "source": [
    "P[\"Ruido Blanco\"] = steps"
   ]
  },
  {
   "cell_type": "code",
   "execution_count": null,
   "id": "1bb1f0e8-5927-4f64-a4fd-0e94498eef43",
   "metadata": {},
   "outputs": [],
   "source": [
    "P.head()"
   ]
  },
  {
   "cell_type": "code",
   "execution_count": null,
   "id": "05000967-8bca-491f-bdd6-769e9699c7aa",
   "metadata": {},
   "outputs": [],
   "source": [
    "P[\"Caminata Aleatoria\"].plot(figsize = (20,8))\n",
    "P[\"Serie\"].plot()\n",
    "plt.title(\"Random Walk vs AMZN\", size = 24)\n",
    "plt.legend() \n",
    "plt.show()"
   ]
  },
  {
   "cell_type": "markdown",
   "id": "01c504ff-9233-4259-ac0a-75dfd72145ae",
   "metadata": {},
   "source": [
    "## Función de autocorrelación ACF"
   ]
  },
  {
   "cell_type": "code",
   "execution_count": null,
   "id": "8d62141e-e7f3-4ff5-94c9-b9059835f441",
   "metadata": {},
   "outputs": [],
   "source": [
    "sgt.plot_acf(P[\"Serie\"], lags = 40, zero = False)\n",
    "plt.title(\"ACF AMZN 2023\", size = 24)\n",
    "plt.show()"
   ]
  },
  {
   "cell_type": "code",
   "execution_count": null,
   "id": "e56be47e-eabd-4b89-9939-aa26fc7e99d1",
   "metadata": {},
   "outputs": [],
   "source": [
    "sgt.plot_acf(P[\"Caminata Aleatoria\"], lags = 40, zero = False)\n",
    "plt.title(\"ACF Caminata Aleatoria\", size = 24)\n",
    "plt.show()"
   ]
  },
  {
   "cell_type": "code",
   "execution_count": null,
   "id": "6454fea9-d4aa-4da3-bda8-33fbfef56ce7",
   "metadata": {},
   "outputs": [],
   "source": [
    "sgt.plot_acf(P[\"Ruido Blanco\"], lags = 40, zero = False)\n",
    "plt.title(\"ACF Ruido Blanco\", size = 24)\n",
    "plt.show()"
   ]
  },
  {
   "cell_type": "markdown",
   "id": "829e633a-e74f-44b5-83ec-6faf0a252551",
   "metadata": {},
   "source": [
    "## Función de autocorrelación parcial PACF"
   ]
  },
  {
   "cell_type": "code",
   "execution_count": null,
   "id": "302750c2-2958-46e0-b2dc-7a8c86b0de11",
   "metadata": {},
   "outputs": [],
   "source": [
    "sgt.plot_pacf(P[\"Serie\"], lags = 40, zero = False, method = ('ols'))\n",
    "plt.title(\"PACF AMZN 2023\", size = 24)\n",
    "plt.show()"
   ]
  },
  {
   "cell_type": "code",
   "execution_count": null,
   "id": "72a08994-6fc1-4967-b28e-42e3f7721a4b",
   "metadata": {},
   "outputs": [],
   "source": [
    "sgt.plot_pacf(P[\"Caminata Aleatoria\"], lags = 40, zero = False, method = ('ols'))\n",
    "plt.title(\"PACF Caminata Aleatoria\", size = 24)\n",
    "plt.show()"
   ]
  },
  {
   "cell_type": "code",
   "execution_count": null,
   "id": "f8826dee-ddb7-49d9-ada5-1c4086c1baf7",
   "metadata": {},
   "outputs": [],
   "source": [
    "sgt.plot_pacf(P[\"Ruido Blanco\"], lags = 40, zero = False, method = ('ols'))\n",
    "plt.title(\"PACF Ruido Blanco\", size = 24)\n",
    "plt.show()"
   ]
  },
  {
   "cell_type": "code",
   "execution_count": null,
   "id": "997a0a87-7748-4090-b469-bfbc247369c2",
   "metadata": {},
   "outputs": [],
   "source": []
  }
 ],
 "metadata": {
  "kernelspec": {
   "display_name": "Python 3 (ipykernel)",
   "language": "python",
   "name": "python3"
  },
  "language_info": {
   "codemirror_mode": {
    "name": "ipython",
    "version": 3
   },
   "file_extension": ".py",
   "mimetype": "text/x-python",
   "name": "python",
   "nbconvert_exporter": "python",
   "pygments_lexer": "ipython3",
   "version": "3.11.5"
  }
 },
 "nbformat": 4,
 "nbformat_minor": 5
}
