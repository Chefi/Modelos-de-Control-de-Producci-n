{
 "cells": [
  {
   "cell_type": "markdown",
   "id": "fa45353e-9760-449d-a8f3-3e3b2a13f173",
   "metadata": {},
   "source": [
    "## Simulación de procesos AR y MA"
   ]
  },
  {
   "cell_type": "markdown",
   "id": "a85f8847-856b-48c1-ab41-5561781cb23a",
   "metadata": {},
   "source": [
    "## Cargar paquetes"
   ]
  },
  {
   "cell_type": "code",
   "execution_count": 1,
   "id": "5f845a60-e157-4772-a7e9-96f867ad8e37",
   "metadata": {},
   "outputs": [],
   "source": [
    "from statsmodels.graphics.tsaplots import plot_acf, plot_pacf\n",
    "from statsmodels.tsa.arima_process import ArmaProcess\n",
    "from statsmodels.regression.linear_model import yule_walker\n",
    "from statsmodels.tsa.stattools import adfuller\n",
    "import matplotlib.pyplot as plt\n",
    "import pandas as pd\n",
    "import numpy as np"
   ]
  },
  {
   "cell_type": "code",
   "execution_count": 2,
   "id": "e939a404-3714-4856-a0cb-222bd382a0ea",
   "metadata": {},
   "outputs": [],
   "source": [
    "plt.rcParams['figure.figsize'] = (10,8)"
   ]
  },
  {
   "cell_type": "markdown",
   "id": "7d21b3ae-d41c-4cd2-bb22-15373099d1e0",
   "metadata": {},
   "source": [
    "## Simulación de Proceso AR(2)"
   ]
  },
  {
   "cell_type": "markdown",
   "id": "c4a03df9-7c31-4ecb-91fa-9fd93c87729f",
   "metadata": {},
   "source": [
    "https://www.statsmodels.org/stable/generated/statsmodels.tsa.arima_process.ArmaProcess.html"
   ]
  },
  {
   "cell_type": "markdown",
   "id": "26c01a24-f409-4dc3-92b0-e4a55f1c3189",
   "metadata": {},
   "source": [
    "$ y_t = \\phi_1 y_{t-1} + ... + \\phi_p y_{t-p} + \\theta_0 \\epsilon_t + \\theta_1 \\epsilon_{t-1} + ... + \\theta_q \\epsilon_{t-q}  $ <br>\n",
    "Y la representación con el operador de retardo $B$ es: <br>\n",
    "$ (1 -  \\phi_1 B - ... - \\phi_p B^p) y_t  =(\\theta_0  + \\theta_1 B + ... + \\theta_q B^q) \\epsilon_t$ "
   ]
  },
  {
   "cell_type": "markdown",
   "id": "75b98e7b-04d1-4550-9466-be927cd37885",
   "metadata": {},
   "source": [
    "Nuestro modelo será: <br>\n",
    "$ y_t = 0.33y_{t-1} + 0.5y_{t-2} + 0.1\\epsilon(t) $"
   ]
  },
  {
   "cell_type": "code",
   "execution_count": 3,
   "id": "91b05975-623b-4c41-b9b1-9ed7d1653be6",
   "metadata": {},
   "outputs": [],
   "source": [
    "ar2 = np.array([1, 0.33, 0.5]) # Suma retardo cero\n",
    "ma2 = np.array([0.1, 0, 0])"
   ]
  },
  {
   "cell_type": "code",
   "execution_count": null,
   "id": "ddef204b-6fc6-4a68-8685-e19dfdc7d708",
   "metadata": {},
   "outputs": [],
   "source": [
    "AR2_process = ArmaProcess(ar2, ma2).generate_sample(nsample=1000)"
   ]
  },
  {
   "cell_type": "code",
   "execution_count": null,
   "id": "676a0c79-ef12-4a86-9c39-3998f6fef323",
   "metadata": {},
   "outputs": [],
   "source": [
    "plt.plot(AR2_process)\n",
    "plt.title('Proceso AR(2) Simulado')\n",
    "plt.xlabel('tiempo')\n",
    "plt.ylabel('y(t)')\n",
    "plt.xlim(0,200)\n",
    "plt.show()"
   ]
  },
  {
   "cell_type": "markdown",
   "id": "6eb26e8b-6925-4b56-8c44-c2a3aef42a28",
   "metadata": {},
   "source": [
    "### La función de autocorrelación"
   ]
  },
  {
   "cell_type": "code",
   "execution_count": null,
   "id": "8cbe72c7-fb1a-48c2-8868-41915539f3d5",
   "metadata": {},
   "outputs": [],
   "source": [
    "plot_acf(AR2_process);"
   ]
  },
  {
   "cell_type": "markdown",
   "id": "08d58fa4-8a0b-4d3b-80cb-fc3c33ed7a12",
   "metadata": {},
   "source": [
    "### La función de autocorrelación parcial"
   ]
  },
  {
   "cell_type": "code",
   "execution_count": null,
   "id": "b1a27db8-aa0d-451c-8af5-330f2f432688",
   "metadata": {},
   "outputs": [],
   "source": [
    "plot_pacf(AR2_process);"
   ]
  },
  {
   "cell_type": "markdown",
   "id": "c0b39a3d-cae5-4529-a33c-07f0f0e2cf88",
   "metadata": {},
   "source": [
    "## El cálculo de los coeficientes del modelo"
   ]
  },
  {
   "cell_type": "code",
   "execution_count": null,
   "id": "e2d60186-77ba-4500-89e1-f0d0b9d8b7f6",
   "metadata": {},
   "outputs": [],
   "source": [
    "rho, sigma = yule_walker(AR2_process, 2, method='mle')\n",
    "rho, sigma"
   ]
  },
  {
   "cell_type": "markdown",
   "id": "d668d4ac-44c2-4ca5-953f-6bec5a568cad",
   "metadata": {},
   "source": [
    "### Simular un proceso AR(3)"
   ]
  },
  {
   "cell_type": "markdown",
   "id": "737abd30-9296-471f-8a23-825b7f64eee4",
   "metadata": {},
   "source": [
    "$ y_t = 0.33 y_{t-1} + 0.5 y_{t-2} + 0.07 y_{t-3} + 0.2 \\epsilon_t $"
   ]
  },
  {
   "cell_type": "code",
   "execution_count": null,
   "id": "f7a61a25-5052-4541-9511-87f6bf54ee1c",
   "metadata": {},
   "outputs": [],
   "source": [
    "ar3 = np.array([1, 0.33, 0.5, 0.07]) # Suma retardo cero\n",
    "ma3 = np.array([0.2, 0, 0, 0])"
   ]
  },
  {
   "cell_type": "code",
   "execution_count": null,
   "id": "fee34aec-becf-471c-86b0-56388e2df28a",
   "metadata": {},
   "outputs": [],
   "source": [
    "AR3_process = ArmaProcess(ar3, ma3).generate_sample(nsample=1000)"
   ]
  },
  {
   "cell_type": "code",
   "execution_count": null,
   "id": "a3ef69f4-ae9a-4fe6-bf7c-082ddfd92bd7",
   "metadata": {},
   "outputs": [],
   "source": [
    "plt.plot(AR3_process)\n",
    "plt.title('Proceso AR(3) Simulado')\n",
    "plt.xlabel('tiempo')\n",
    "plt.ylabel('y(t)')\n",
    "plt.xlim(0,200)\n",
    "plt.show()"
   ]
  },
  {
   "cell_type": "code",
   "execution_count": null,
   "id": "b54910c1-19c0-451c-ba1e-b12632098741",
   "metadata": {},
   "outputs": [],
   "source": [
    "plot_acf(AR2_process);"
   ]
  },
  {
   "cell_type": "code",
   "execution_count": null,
   "id": "53ae9bbe-8687-48ff-a37e-1b8acdce1baf",
   "metadata": {},
   "outputs": [],
   "source": [
    "plot_pacf(AR2_process);"
   ]
  },
  {
   "cell_type": "code",
   "execution_count": null,
   "id": "f095ffb9-0fbe-49e9-8a76-9dbfb2125aed",
   "metadata": {},
   "outputs": [],
   "source": [
    "rho, sigma = yule_walker(AR3_process, 3, method='mle')\n",
    "rho, sigma"
   ]
  },
  {
   "cell_type": "markdown",
   "id": "170efe75-171f-4ee6-8266-fd4c5b6f0461",
   "metadata": {},
   "source": [
    "## Ejercicio en clase"
   ]
  },
  {
   "cell_type": "code",
   "execution_count": null,
   "id": "676eeca8-8ea7-4fa4-8972-8b951b1f308e",
   "metadata": {},
   "outputs": [],
   "source": [
    "url = \"https://raw.githubusercontent.com/Chefi/Modelos-de-Control-de-Producci-n/refs/heads/main/jj.csv\""
   ]
  },
  {
   "cell_type": "code",
   "execution_count": null,
   "id": "9d8310af-6ced-4a8a-938e-39388c9cbca8",
   "metadata": {},
   "outputs": [],
   "source": [
    "data = pd.read_csv(url, index_col=\"date\", parse_dates=True)"
   ]
  },
  {
   "cell_type": "code",
   "execution_count": null,
   "id": "4433ffaf-739a-49fc-b350-72f672066a12",
   "metadata": {},
   "outputs": [],
   "source": [
    "data.head()"
   ]
  },
  {
   "cell_type": "code",
   "execution_count": null,
   "id": "d7d7be39-0c5c-4545-bc90-13b224f258d3",
   "metadata": {},
   "outputs": [],
   "source": [
    "data.tail()"
   ]
  },
  {
   "cell_type": "code",
   "execution_count": null,
   "id": "fb5edb49-0cc4-401b-81f5-f4a9594743b9",
   "metadata": {},
   "outputs": [],
   "source": [
    "data.describe()"
   ]
  },
  {
   "cell_type": "code",
   "execution_count": null,
   "id": "e6f74222-1557-46f6-a615-846dc0fc5682",
   "metadata": {},
   "outputs": [],
   "source": [
    "data.index.freq"
   ]
  },
  {
   "cell_type": "code",
   "execution_count": null,
   "id": "7d0f9846-c836-4fa0-a727-7a47e821c82c",
   "metadata": {},
   "outputs": [],
   "source": [
    "pd.date_range(start=\"1960-01-01\", end=\"1980-10-01\", freq=\"QS\")"
   ]
  },
  {
   "cell_type": "code",
   "execution_count": null,
   "id": "af20a284-92b6-47e7-aa34-959fbdd588a8",
   "metadata": {},
   "outputs": [],
   "source": [
    "data.index = pd.date_range(start=\"1960-01-01\", end=\"1980-10-01\", freq=\"QS\")"
   ]
  },
  {
   "cell_type": "code",
   "execution_count": null,
   "id": "3cdd7acc-ae96-40e3-bbc6-7abad77165cc",
   "metadata": {},
   "outputs": [],
   "source": [
    "data.index"
   ]
  },
  {
   "cell_type": "code",
   "execution_count": null,
   "id": "01f86bd9-9508-4e0d-b9b1-36bf1f931e49",
   "metadata": {},
   "outputs": [],
   "source": [
    "data['data'].iloc[:].plot(figsize=(12,8))\n",
    "plt.legend(loc='upper left')\n",
    "plt.xlabel('tiempo')\n",
    "plt.ylabel('y(t)')\n",
    "#plt.xlim(0,200)\n",
    "plt.show()"
   ]
  },
  {
   "cell_type": "code",
   "execution_count": null,
   "id": "1e6d60e9-0d0d-48e5-867f-02a7d10a68e3",
   "metadata": {},
   "outputs": [],
   "source": [
    "plt.figure(figsize=[15,8])\n",
    "plt.scatter(data.index.values, data['data'])\n",
    "plt.title('Datos de ventas trimestrales de Jhonson & Jhonson entre 1960 y 1980')\n",
    "plt.xlabel('Trimestres')\n",
    "plt.ylabel('Ventas')\n",
    "plt.show()"
   ]
  },
  {
   "cell_type": "markdown",
   "id": "b1c503cf-c7e2-497e-8501-91464de7d86a",
   "metadata": {},
   "source": [
    "## Volver estacionaria la serie"
   ]
  },
  {
   "cell_type": "code",
   "execution_count": null,
   "id": "1126d1d7-9837-49ac-8a30-c70299df8333",
   "metadata": {},
   "outputs": [],
   "source": [
    "data['logdata'] = np.log(data['data'])\n",
    "data['difflogdata'] = data['logdata'].diff()\n",
    "data.head()"
   ]
  },
  {
   "cell_type": "code",
   "execution_count": null,
   "id": "a9cd6d16-2cf3-486a-9046-07732b766451",
   "metadata": {},
   "outputs": [],
   "source": [
    "data = data.dropna()\n",
    "data.head()"
   ]
  },
  {
   "cell_type": "code",
   "execution_count": null,
   "id": "3111aefc-45f3-495f-83a2-f49276d107c6",
   "metadata": {},
   "outputs": [],
   "source": [
    "data['difflogdata'].iloc[:].plot(figsize=(12,8))\n",
    "plt.legend(loc='upper left')\n",
    "plt.xlabel('tiempo')\n",
    "plt.ylabel('y(t)')\n",
    "#plt.xlim(0,200)\n",
    "plt.show()"
   ]
  },
  {
   "cell_type": "markdown",
   "id": "58cf987d-e5dd-4885-a9a4-2c471a119b9d",
   "metadata": {},
   "source": [
    "## Prueba de estacionalidad"
   ]
  },
  {
   "cell_type": "code",
   "execution_count": null,
   "id": "371981a7-2041-4fb2-8cc0-c3ccfa65079f",
   "metadata": {},
   "outputs": [],
   "source": [
    "adfuller(data['difflogdata']) # Ho es que la serie no es estacionaria"
   ]
  },
  {
   "cell_type": "markdown",
   "id": "7689e380-ba7f-4aff-804d-aaf33c1bc3f5",
   "metadata": {},
   "source": [
    "### Rechaza en este caso la Ho de que no es estacionaria"
   ]
  },
  {
   "cell_type": "code",
   "execution_count": null,
   "id": "4d2044dc-0622-4973-afd8-3616d6f137ab",
   "metadata": {},
   "outputs": [],
   "source": [
    "plot_acf(data['difflogdata']);\n",
    "plot_pacf(data['difflogdata']);"
   ]
  },
  {
   "cell_type": "markdown",
   "id": "f148485e-2574-4385-8623-3c83a90a0129",
   "metadata": {},
   "source": [
    "### Tratamos un AR(4)"
   ]
  },
  {
   "cell_type": "code",
   "execution_count": null,
   "id": "8bc55050-4a4f-4c5f-b6c1-fab09fb57963",
   "metadata": {},
   "outputs": [],
   "source": [
    "rho, sigma = yule_walker(data['difflogdata'], 4)\n",
    "rho, sigma"
   ]
  },
  {
   "cell_type": "code",
   "execution_count": null,
   "id": "01868245-90cf-4dfc-b858-32230bca3ee2",
   "metadata": {},
   "outputs": [],
   "source": [
    "from statsmodels.tsa.arima.model import ARIMA\n",
    "\n",
    "model = ARIMA(data['difflogdata'], order=(4, 0, 0))\n",
    "model_fit = model.fit()"
   ]
  },
  {
   "cell_type": "code",
   "execution_count": null,
   "id": "fce753fe-5c96-4eca-98a5-18fa0d6810ab",
   "metadata": {},
   "outputs": [],
   "source": [
    "forecast = model_fit.get_forecast(steps=len(data))"
   ]
  },
  {
   "cell_type": "code",
   "execution_count": null,
   "id": "f05c1f9d-c651-4b4c-8444-b20416980fd2",
   "metadata": {},
   "outputs": [],
   "source": [
    "forecast.predicted_mean"
   ]
  },
  {
   "cell_type": "code",
   "execution_count": null,
   "id": "7389c1d9-e6e6-4b24-94d9-83bb303fc54d",
   "metadata": {},
   "outputs": [],
   "source": [
    "model_fit.resid"
   ]
  },
  {
   "cell_type": "code",
   "execution_count": null,
   "id": "4a7f95a7-3c47-422a-a959-d4fd39d895f9",
   "metadata": {},
   "outputs": [],
   "source": [
    "data[\"Ajustados\"] = -model_fit.resid+data['difflogdata']\n",
    "data.head()"
   ]
  },
  {
   "cell_type": "code",
   "execution_count": null,
   "id": "517f4eff-b7e8-48df-80dc-20db76b057b6",
   "metadata": {},
   "outputs": [],
   "source": [
    "residuals = pd.DataFrame(model_fit.resid)\n",
    "residuals.plot()\n",
    "plt.show()\n",
    "# density plot of residuals\n",
    "residuals.plot(kind='kde')\n",
    "plt.show()\n",
    "# summary stats of residuals\n",
    "print(residuals.describe())"
   ]
  },
  {
   "cell_type": "code",
   "execution_count": null,
   "id": "b19b28ce-415e-4da6-8a91-2cd5869c9a6d",
   "metadata": {},
   "outputs": [],
   "source": [
    "plot_acf(residuals);\n",
    "plot_pacf(residuals);"
   ]
  },
  {
   "cell_type": "code",
   "execution_count": null,
   "id": "9cc1b227-7cbf-4e34-8983-bcedd0f12206",
   "metadata": {},
   "outputs": [],
   "source": [
    "model_fit.summary()"
   ]
  },
  {
   "cell_type": "code",
   "execution_count": null,
   "id": "7552edef-9d98-40a4-b700-0a1e2b3c4bb1",
   "metadata": {},
   "outputs": [],
   "source": [
    "data.index"
   ]
  },
  {
   "cell_type": "code",
   "execution_count": null,
   "id": "dd1d3c96-78e5-418e-9e53-a34067a1e0dc",
   "metadata": {},
   "outputs": [],
   "source": [
    "model.predict"
   ]
  },
  {
   "cell_type": "code",
   "execution_count": null,
   "id": "292639f7-a981-4d82-bc75-66e577178040",
   "metadata": {},
   "outputs": [],
   "source": [
    "# Create a plot to compare the forecast with the actual test data\n",
    "plt.figure(figsize=(14,7))\n",
    "plt.plot(data['difflogdata'], label='Data')\n",
    "plt.plot(data['Ajustados'], label='Ajustada Data', color='orange')\n",
    "plt.title('ARIMA Model Evaluation')\n",
    "plt.xlabel('Date')\n",
    "plt.ylabel('y(t)')\n",
    "plt.legend()\n",
    "plt.show()"
   ]
  },
  {
   "cell_type": "code",
   "execution_count": null,
   "id": "ef099545-74df-4c72-9319-84d704c2daca",
   "metadata": {},
   "outputs": [],
   "source": [
    "from sklearn.metrics import mean_squared_error\n",
    "\n",
    "# Split the data into train and test\n",
    "train_size = int(len(data) * 0.8)\n",
    "train, test = data[0:train_size], data[train_size:len(data)]\n",
    "\n",
    "# Fit the ARIMA model on the training dataset\n",
    "model_train = ARIMA(train['difflogdata'], order=(4, 0, 0))\n",
    "model_train_fit = model_train.fit()\n",
    "\n",
    "# Forecast on the test dataset\n",
    "test_forecast = model_train_fit.get_forecast(steps=len(test))\n",
    "test_forecast_series = pd.Series(test_forecast.predicted_mean, index=test.index)\n",
    "\n",
    "# Calculate the mean squared error\n",
    "mse = mean_squared_error(test['difflogdata'], test_forecast_series)\n",
    "rmse = mse**0.5\n",
    "\n",
    "# Create a plot to compare the forecast with the actual test data\n",
    "plt.figure(figsize=(14,7))\n",
    "plt.plot(train['difflogdata'], label='Training Data')\n",
    "plt.plot(test['difflogdata'], label='Actual Data', color='orange')\n",
    "plt.plot(test_forecast_series, label='Forecasted Data', color='green')\n",
    "plt.fill_between(test.index, \n",
    "                 test_forecast.conf_int().iloc[:, 0], \n",
    "                 test_forecast.conf_int().iloc[:, 1], \n",
    "                 color='k', alpha=.15)\n",
    "plt.title('ARIMA Model Evaluation')\n",
    "plt.xlabel('Date')\n",
    "plt.ylabel('y(t)')\n",
    "plt.legend()\n",
    "plt.show()\n",
    "\n",
    "print('RMSE:', rmse)"
   ]
  },
  {
   "cell_type": "code",
   "execution_count": null,
   "id": "3403247f-b3d7-4144-98ab-6ef2c2ddf2ae",
   "metadata": {},
   "outputs": [],
   "source": [
    "from statsmodels.tsa.arima.model import ARIMA\n",
    "\n",
    "model = ARIMA(data['logdata'], order=(4, 1, 0))\n",
    "model_fit = model.fit()"
   ]
  },
  {
   "cell_type": "code",
   "execution_count": null,
   "id": "501a2ce6-afd7-4893-bda2-2f78992dd32d",
   "metadata": {},
   "outputs": [],
   "source": [
    "forecast = model_fit.get_forecast(steps=30)"
   ]
  },
  {
   "cell_type": "code",
   "execution_count": null,
   "id": "218b713d-7d13-48cf-8faf-cd10978f4625",
   "metadata": {},
   "outputs": [],
   "source": [
    "from sklearn.metrics import mean_squared_error\n",
    "\n",
    "# Split the data into train and test\n",
    "train_size = int(len(data) * 0.8)\n",
    "train, test = data[0:train_size], data[train_size:len(data)]\n",
    "\n",
    "# Fit the ARIMA model on the training dataset\n",
    "model_train = ARIMA(train['logdata'], order=(4, 1, 0))\n",
    "model_train_fit = model_train.fit()\n",
    "\n",
    "# Forecast on the test dataset\n",
    "test_forecast = model_train_fit.get_forecast(steps=len(test))\n",
    "test_forecast_series = pd.Series(test_forecast.predicted_mean, index=test.index)\n",
    "\n",
    "# Calculate the mean squared error\n",
    "mse = mean_squared_error(test['logdata'], test_forecast_series)\n",
    "rmse = mse**0.5\n",
    "\n",
    "# Create a plot to compare the forecast with the actual test data\n",
    "plt.figure(figsize=(14,7))\n",
    "plt.plot(train['logdata'], label='Training Data')\n",
    "plt.plot(test['logdata'], label='Actual Data', color='orange')\n",
    "plt.plot(test_forecast_series, label='Forecasted Data', color='green')\n",
    "plt.fill_between(test.index, \n",
    "                 test_forecast.conf_int().iloc[:, 0], \n",
    "                 test_forecast.conf_int().iloc[:, 1], \n",
    "                 color='k', alpha=.15)\n",
    "plt.title('ARIMA Model Evaluation')\n",
    "plt.xlabel('Date')\n",
    "plt.ylabel('y(t)')\n",
    "plt.legend()\n",
    "plt.show()\n",
    "\n",
    "print('RMSE:', rmse)"
   ]
  },
  {
   "cell_type": "code",
   "execution_count": null,
   "id": "3092509a-97a4-4419-86d0-0b2aa2f101d5",
   "metadata": {},
   "outputs": [],
   "source": [
    "data"
   ]
  },
  {
   "cell_type": "code",
   "execution_count": null,
   "id": "abc38830-b658-470a-81f2-5bd92284ab2f",
   "metadata": {},
   "outputs": [],
   "source": [
    "test_forecast.summary_frame()"
   ]
  },
  {
   "cell_type": "code",
   "execution_count": null,
   "id": "27fb976b-6e36-439c-90c4-55730c86284a",
   "metadata": {},
   "outputs": [],
   "source": [
    "model_train_fit.params"
   ]
  },
  {
   "cell_type": "code",
   "execution_count": null,
   "id": "736425c3-c126-425a-baeb-a7521fb7d26d",
   "metadata": {},
   "outputs": [],
   "source": [
    "model_train_fit.summary()"
   ]
  },
  {
   "cell_type": "code",
   "execution_count": null,
   "id": "2e7c7099-1a55-4413-beb6-bc87c3ef83bf",
   "metadata": {},
   "outputs": [],
   "source": [
    "residuals = pd.DataFrame(model_train_fit.resid)\n",
    "residuals.plot()\n",
    "plt.show()\n",
    "# density plot of residuals\n",
    "residuals.plot(kind='kde')\n",
    "plt.show()\n",
    "# summary stats of residuals\n",
    "print(residuals.describe())"
   ]
  },
  {
   "cell_type": "code",
   "execution_count": null,
   "id": "47f522ed-1f11-47b2-9e89-68958914fbec",
   "metadata": {},
   "outputs": [],
   "source": [
    "plot_acf(residuals);\n",
    "plot_pacf(residuals);"
   ]
  },
  {
   "cell_type": "code",
   "execution_count": null,
   "id": "f870dac7-503f-4462-bc03-ff2ae09b6dfa",
   "metadata": {},
   "outputs": [],
   "source": [
    "test_forecast_series-test['logdata']"
   ]
  },
  {
   "cell_type": "code",
   "execution_count": null,
   "id": "f4a096d3-b074-4911-b85c-75751f783257",
   "metadata": {},
   "outputs": [],
   "source": []
  }
 ],
 "metadata": {
  "kernelspec": {
   "display_name": "Python 3 (ipykernel)",
   "language": "python",
   "name": "python3"
  },
  "language_info": {
   "codemirror_mode": {
    "name": "ipython",
    "version": 3
   },
   "file_extension": ".py",
   "mimetype": "text/x-python",
   "name": "python",
   "nbconvert_exporter": "python",
   "pygments_lexer": "ipython3",
   "version": "3.11.10"
  }
 },
 "nbformat": 4,
 "nbformat_minor": 5
}
