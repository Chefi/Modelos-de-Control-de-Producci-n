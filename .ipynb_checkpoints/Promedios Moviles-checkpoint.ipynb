{
 "cells": [
  {
   "cell_type": "markdown",
   "id": "f7b30194-f84d-42e4-be5b-92bc25d47318",
   "metadata": {},
   "source": [
    "## Cargar paquetes"
   ]
  },
  {
   "cell_type": "code",
   "execution_count": 31,
   "id": "c90d18b3-2898-48a6-84dc-fdfe91fb92a5",
   "metadata": {},
   "outputs": [],
   "source": [
    "import numpy as np\n",
    "import pandas as pd"
   ]
  },
  {
   "cell_type": "markdown",
   "id": "be6ba95b-5dfe-4108-88d9-ddbeeb4e1dcb",
   "metadata": {},
   "source": [
    "## Leer base de datos de Pasajeros"
   ]
  },
  {
   "cell_type": "code",
   "execution_count": 34,
   "id": "216ed592-bd9a-4131-b296-4802250d4bb5",
   "metadata": {},
   "outputs": [],
   "source": [
    "url = 'https://github.com/Chefi/Modelos-de-Control-de-Producci-n/blob/main/AirPassengers.csv'"
   ]
  },
  {
   "cell_type": "code",
   "execution_count": 66,
   "id": "4b2edd98-49be-468c-ba44-5e436bab4a20",
   "metadata": {},
   "outputs": [],
   "source": [
    "df = pd.read_csv(\"airline-passengers.csv\", index_col=\"Month\", parse_dates=True)"
   ]
  },
  {
   "cell_type": "code",
   "execution_count": 68,
   "id": "57b53813-7ddf-4af8-ad51-1c31a5d51329",
   "metadata": {},
   "outputs": [
    {
     "data": {
      "text/html": [
       "<div>\n",
       "<style scoped>\n",
       "    .dataframe tbody tr th:only-of-type {\n",
       "        vertical-align: middle;\n",
       "    }\n",
       "\n",
       "    .dataframe tbody tr th {\n",
       "        vertical-align: top;\n",
       "    }\n",
       "\n",
       "    .dataframe thead th {\n",
       "        text-align: right;\n",
       "    }\n",
       "</style>\n",
       "<table border=\"1\" class=\"dataframe\">\n",
       "  <thead>\n",
       "    <tr style=\"text-align: right;\">\n",
       "      <th></th>\n",
       "      <th>Total_passengers</th>\n",
       "    </tr>\n",
       "    <tr>\n",
       "      <th>Month</th>\n",
       "      <th></th>\n",
       "    </tr>\n",
       "  </thead>\n",
       "  <tbody>\n",
       "    <tr>\n",
       "      <th>1949-01-01</th>\n",
       "      <td>112</td>\n",
       "    </tr>\n",
       "    <tr>\n",
       "      <th>1949-02-01</th>\n",
       "      <td>118</td>\n",
       "    </tr>\n",
       "    <tr>\n",
       "      <th>1949-03-01</th>\n",
       "      <td>132</td>\n",
       "    </tr>\n",
       "    <tr>\n",
       "      <th>1949-04-01</th>\n",
       "      <td>129</td>\n",
       "    </tr>\n",
       "    <tr>\n",
       "      <th>1949-05-01</th>\n",
       "      <td>121</td>\n",
       "    </tr>\n",
       "    <tr>\n",
       "      <th>...</th>\n",
       "      <td>...</td>\n",
       "    </tr>\n",
       "    <tr>\n",
       "      <th>1960-08-01</th>\n",
       "      <td>606</td>\n",
       "    </tr>\n",
       "    <tr>\n",
       "      <th>1960-09-01</th>\n",
       "      <td>508</td>\n",
       "    </tr>\n",
       "    <tr>\n",
       "      <th>1960-10-01</th>\n",
       "      <td>461</td>\n",
       "    </tr>\n",
       "    <tr>\n",
       "      <th>1960-11-01</th>\n",
       "      <td>390</td>\n",
       "    </tr>\n",
       "    <tr>\n",
       "      <th>1960-12-01</th>\n",
       "      <td>432</td>\n",
       "    </tr>\n",
       "  </tbody>\n",
       "</table>\n",
       "<p>144 rows × 1 columns</p>\n",
       "</div>"
      ],
      "text/plain": [
       "            Total_passengers\n",
       "Month                       \n",
       "1949-01-01               112\n",
       "1949-02-01               118\n",
       "1949-03-01               132\n",
       "1949-04-01               129\n",
       "1949-05-01               121\n",
       "...                      ...\n",
       "1960-08-01               606\n",
       "1960-09-01               508\n",
       "1960-10-01               461\n",
       "1960-11-01               390\n",
       "1960-12-01               432\n",
       "\n",
       "[144 rows x 1 columns]"
      ]
     },
     "execution_count": 68,
     "metadata": {},
     "output_type": "execute_result"
    }
   ],
   "source": [
    "df"
   ]
  },
  {
   "cell_type": "code",
   "execution_count": null,
   "id": "30430290-0a07-498d-ad4d-2f27036b7f7e",
   "metadata": {},
   "outputs": [],
   "source": []
  }
 ],
 "metadata": {
  "kernelspec": {
   "display_name": "Python 3 (ipykernel)",
   "language": "python",
   "name": "python3"
  },
  "language_info": {
   "codemirror_mode": {
    "name": "ipython",
    "version": 3
   },
   "file_extension": ".py",
   "mimetype": "text/x-python",
   "name": "python",
   "nbconvert_exporter": "python",
   "pygments_lexer": "ipython3",
   "version": "3.11.5"
  }
 },
 "nbformat": 4,
 "nbformat_minor": 5
}
