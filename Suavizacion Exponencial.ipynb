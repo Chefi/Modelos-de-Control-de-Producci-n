{
 "cells": [
  {
   "cell_type": "markdown",
   "id": "dec75a20-2421-4a34-a145-1830cbd405f5",
   "metadata": {},
   "source": [
    "## Cargar paquetes"
   ]
  },
  {
   "cell_type": "code",
   "execution_count": null,
   "id": "5c24fa20-487c-4efa-8edc-01fe1bb8c993",
   "metadata": {},
   "outputs": [],
   "source": [
    "import numpy as np\n",
    "import pandas as pd\n",
    "from statsmodels.tsa.holtwinters import SimpleExpSmoothing\n",
    "from statsmodels.tsa.holtwinters import ExponentialSmoothing\n",
    "from sklearn.metrics import mean_absolute_error, mean_squared_error\n",
    "import matplotlib.pyplot as plt \n",
    "import statsmodels.graphics.tsaplots as sgt \n",
    "import statsmodels.tsa.stattools as sts \n",
    "from statsmodels.tsa.seasonal import seasonal_decompose\n",
    "import seaborn as sns\n",
    "sns.set()\n"
   ]
  },
  {
   "cell_type": "markdown",
   "id": "b541da6f-d91d-41eb-8a39-2908d8a72ac3",
   "metadata": {},
   "source": [
    "## Leer base de datos de Pasajeros"
   ]
  },
  {
   "cell_type": "code",
   "execution_count": null,
   "id": "604781c7-76a1-410f-a700-933e2d7fc4ee",
   "metadata": {},
   "outputs": [],
   "source": [
    "url = 'https://raw.githubusercontent.com/Chefi/Modelos-de-Control-de-Producci-n/refs/heads/main/airline-passengers.csv'"
   ]
  },
  {
   "cell_type": "code",
   "execution_count": null,
   "id": "397d5853-7301-444b-a697-6851948ea3dc",
   "metadata": {},
   "outputs": [],
   "source": [
    "df = pd.read_csv(url, index_col=\"Month\", parse_dates=True)\n",
    "df"
   ]
  },
  {
   "cell_type": "code",
   "execution_count": null,
   "id": "2f7669ef-b2c9-482d-8352-4ede533b5d1a",
   "metadata": {},
   "outputs": [],
   "source": [
    "pd.offsets.__all__"
   ]
  },
  {
   "cell_type": "code",
   "execution_count": null,
   "id": "0c16892b-665b-4b7a-afa7-d8eb8237c4f3",
   "metadata": {},
   "outputs": [],
   "source": [
    "pd.offsets.MonthBegin._prefix "
   ]
  },
  {
   "cell_type": "code",
   "execution_count": null,
   "id": "1e592182-d104-4fc4-8bf8-72da7a5be204",
   "metadata": {},
   "outputs": [],
   "source": [
    "df.index.freq = 'MS'\n",
    "df.index"
   ]
  },
  {
   "cell_type": "code",
   "execution_count": null,
   "id": "3f7f26a0-efc8-436d-b778-7a0fb4f65522",
   "metadata": {},
   "outputs": [],
   "source": [
    "df.columns =[\"Pasajeros\"]"
   ]
  },
  {
   "cell_type": "code",
   "execution_count": null,
   "id": "b034e4ef-20a1-48dd-90a2-c8dc7ad4e573",
   "metadata": {},
   "outputs": [],
   "source": [
    "s_dec_additive = seasonal_decompose(df[[\"Pasajeros\"]], model = \"additive\")\n",
    "fig = s_dec_additive.plot();\n",
    "fig.set_size_inches((16, 9))\n",
    "# Tight layout to realign things\n",
    "fig.tight_layout()\n",
    "plt.show()"
   ]
  },
  {
   "cell_type": "markdown",
   "id": "f43bb0f6-be60-4149-bc19-3cf67280c21d",
   "metadata": {},
   "source": [
    "## Suavización Exponencial Simple"
   ]
  },
  {
   "cell_type": "code",
   "execution_count": null,
   "id": "2aa21e09-6f2a-4c00-b4b4-174c87489e31",
   "metadata": {},
   "outputs": [],
   "source": [
    "span = 12\n",
    "alpha = 2/(span+1)\n",
    "\n",
    "Data = df['Pasajeros'][0]\n",
    "Lista =[]\n",
    "Pronosticos = Data\n",
    "Lista.append(Pronosticos)\n",
    "print(Pronosticos)\n",
    "for i in range(len(df)-1):\n",
    "    Data = df['Pasajeros'][i]\n",
    "    Pronosticos = Pronosticos*(1-alpha)+Data*alpha\n",
    "    Lista.append(Pronosticos)\n",
    "    print(Pronosticos)\n",
    "df['Pronosticos'] = Lista"
   ]
  },
  {
   "cell_type": "code",
   "execution_count": null,
   "id": "11555bc7-c221-4f31-b73b-1d8f0351e6c8",
   "metadata": {},
   "outputs": [],
   "source": [
    "df.tail()"
   ]
  },
  {
   "cell_type": "code",
   "execution_count": null,
   "id": "b7e8912f-61e7-415a-927a-fa2024328063",
   "metadata": {},
   "outputs": [],
   "source": [
    "df['SES']=SimpleExpSmoothing(df['Pasajeros']).fit(smoothing_level=alpha,optimized=False).fittedvalues\n",
    "df['SES-1']=SimpleExpSmoothing(df['Pasajeros']).fit(smoothing_level=alpha,optimized=False).fittedvalues.shift(-1)"
   ]
  },
  {
   "cell_type": "code",
   "execution_count": null,
   "id": "8c3de7b9-5483-456a-a876-3a274db77016",
   "metadata": {},
   "outputs": [],
   "source": [
    "df.tail()"
   ]
  },
  {
   "cell_type": "code",
   "execution_count": null,
   "id": "4de7f0a7-75d0-443b-b5d3-ee1486c320b9",
   "metadata": {},
   "outputs": [],
   "source": [
    "df.head()"
   ]
  },
  {
   "cell_type": "code",
   "execution_count": null,
   "id": "74d785c4-e557-4f61-a4e7-07918a006778",
   "metadata": {},
   "outputs": [],
   "source": [
    "# Calculate Mean Absolute Error (MAE)\n",
    "mae3_1 = mean_absolute_error(df['Pasajeros'], df['Pronosticos'])\n",
    "print(f\"Mean Absolute Error (MAE): {mae3_1}\")\n",
    "\n",
    "# Calculate Mean Squared Error (MSE)\n",
    "mse3_1 = mean_squared_error(df['Pasajeros'], df['Pronosticos'])\n",
    "print(f\"Mean Squared Error (MSE): {mse3_1}\")\n",
    "\n",
    "rmse3_1 = np.sqrt(mse3_1)\n",
    "print(f\"Root Mean Squared Error (RMSE): {rmse3_1}\")"
   ]
  },
  {
   "cell_type": "code",
   "execution_count": null,
   "id": "7d88fa35-82b8-47c5-9337-53d5cc4c81e0",
   "metadata": {},
   "outputs": [],
   "source": [
    "df[['Pasajeros','SES']].iloc[:].plot(figsize=(12,6)).autoscale(axis='x',tight=True);"
   ]
  },
  {
   "cell_type": "markdown",
   "id": "569eca68-4725-45e5-94c5-ef32ebf0ee52",
   "metadata": {},
   "source": [
    "## Suavización Exponencial Doble"
   ]
  },
  {
   "cell_type": "markdown",
   "id": "9ce96983-0496-46b5-a058-6b8453a649c7",
   "metadata": {},
   "source": [
    "https://www.statsmodels.org/dev/generated/statsmodels.tsa.holtwinters.ExponentialSmoothing.fit.html#statsmodels.tsa.holtwinters.ExponentialSmoothing.fit"
   ]
  },
  {
   "cell_type": "code",
   "execution_count": null,
   "id": "b3788fda-1762-403b-8356-a7c8749b8865",
   "metadata": {},
   "outputs": [],
   "source": [
    "df['DESadd'] = ExponentialSmoothing(df['Pasajeros'], trend = 'add').fit().fittedvalues\n",
    "df.head()"
   ]
  },
  {
   "cell_type": "code",
   "execution_count": null,
   "id": "3395351f-d68a-4386-a7e2-5ecc7d12b755",
   "metadata": {},
   "outputs": [],
   "source": [
    "df[['Pasajeros','SES','DESadd' ]].iloc[:].plot(figsize=(12,6)).autoscale(axis='x',tight=True);"
   ]
  },
  {
   "cell_type": "code",
   "execution_count": null,
   "id": "f9a4917e-2566-4aee-88f6-983bf0e68820",
   "metadata": {},
   "outputs": [],
   "source": [
    "df[['Pasajeros','SES','DESadd' ]].iloc[-50:].plot(figsize=(12,6)).autoscale(axis='x',tight=True);"
   ]
  },
  {
   "cell_type": "markdown",
   "id": "76e7a45d-a599-423c-a5f5-075773808646",
   "metadata": {},
   "source": [
    "## Suavización Exponencial Triple"
   ]
  },
  {
   "cell_type": "code",
   "execution_count": null,
   "id": "e1530946-d246-4a51-86ca-fccdaddb7291",
   "metadata": {},
   "outputs": [],
   "source": [
    "df['TESadd12'] = ExponentialSmoothing(df['Pasajeros'],trend='add',seasonal='add',seasonal_periods=12).fit().fittedvalues\n",
    "df.head()"
   ]
  },
  {
   "cell_type": "code",
   "execution_count": null,
   "id": "965c058b-6e54-4629-8e52-464bd100d5dd",
   "metadata": {},
   "outputs": [],
   "source": [
    "df['TESmul12'] = ExponentialSmoothing(df['Pasajeros'],trend='mul',seasonal='mul',seasonal_periods=12).fit().fittedvalues\n",
    "df.head()"
   ]
  },
  {
   "cell_type": "code",
   "execution_count": null,
   "id": "8cdd42c3-f9bf-4f05-9d50-bd9197ce8590",
   "metadata": {},
   "outputs": [],
   "source": [
    "df[['Pasajeros','SES','DESadd','TESadd12', 'TESmul12' ]].iloc[:].plot(figsize=(12,6)).autoscale(axis='x',tight=True);"
   ]
  },
  {
   "cell_type": "code",
   "execution_count": null,
   "id": "c20e700b-8ff0-42b5-9778-07ea829bdaab",
   "metadata": {},
   "outputs": [],
   "source": [
    "df[['Pasajeros','SES','DESadd','TESadd12', 'TESmul12' ]].iloc[-50:].plot(figsize=(12,6)).autoscale(axis='x',tight=True);"
   ]
  },
  {
   "cell_type": "code",
   "execution_count": null,
   "id": "f168a3e2-d225-4ca5-89ca-0dc9aa6c2f7c",
   "metadata": {},
   "outputs": [],
   "source": [
    "df[['Pasajeros','TESadd12', 'TESmul12' ]].iloc[:].plot(figsize=(12,6)).autoscale(axis='x',tight=True);"
   ]
  },
  {
   "cell_type": "code",
   "execution_count": null,
   "id": "cfe3777e-a445-4ba6-b286-eef1ab48b4ad",
   "metadata": {},
   "outputs": [],
   "source": [
    "# Calculate Mean Absolute Error (MAE)\n",
    "mae3_1 = mean_absolute_error(df['Pasajeros'], df['TESadd12'])\n",
    "print(f\"Mean Absolute Error (MAE): {mae3_1}\")\n",
    "\n",
    "# Calculate Mean Squared Error (MSE)\n",
    "mse3_1 = mean_squared_error(df['Pasajeros'], df['TESadd12'])\n",
    "print(f\"Mean Squared Error (MSE): {mse3_1}\")\n",
    "\n",
    "rmse3_1 = np.sqrt(mse3_1)\n",
    "print(f\"Root Mean Squared Error (RMSE): {rmse3_1}\")"
   ]
  },
  {
   "cell_type": "code",
   "execution_count": null,
   "id": "fd5c9c0a-a327-48e2-8dd1-c8603e113e23",
   "metadata": {},
   "outputs": [],
   "source": [
    "model_add = ExponentialSmoothing(df['Pasajeros'],trend='add',seasonal='add',seasonal_periods=12).fit()\n",
    "model_mul = ExponentialSmoothing(df['Pasajeros'],trend='mul',seasonal='mul',seasonal_periods=12).fit()"
   ]
  },
  {
   "cell_type": "code",
   "execution_count": null,
   "id": "25496b97-54a3-48e6-b03d-e591f51c582b",
   "metadata": {},
   "outputs": [],
   "source": [
    "forecast_add = model_add.forecast(36)\n",
    "forecast_mul = model_mul.forecast(36)"
   ]
  },
  {
   "cell_type": "code",
   "execution_count": null,
   "id": "a874b6e7-0d66-46ee-80f4-118219d7b8c0",
   "metadata": {},
   "outputs": [],
   "source": [
    "import matplotlib.pyplot as plt\n",
    "\n",
    "df['Pasajeros'].plot(figsize=(12,8))\n",
    "forecast_add.plot(label='Forecast additive model');\n",
    "forecast_mul.plot(label='Forecast multiplicative model');\n",
    "plt.legend(loc='upper left')"
   ]
  },
  {
   "cell_type": "markdown",
   "id": "7fae215b-49cc-45c6-95ae-152aebebbb72",
   "metadata": {},
   "source": [
    "## Estrategia de validación del modelo"
   ]
  },
  {
   "cell_type": "code",
   "execution_count": null,
   "id": "7327c89a-5810-4765-a670-6fe9765f6670",
   "metadata": {},
   "outputs": [],
   "source": [
    "train_size = int(len(df) * 0.8)  # Use 80% of the data for training\n",
    "train3_1, test3_1 = df[['Pasajeros']][:train_size], df[['Pasajeros']][train_size:]"
   ]
  },
  {
   "cell_type": "code",
   "execution_count": null,
   "id": "1d71dc09-a83a-4a50-9987-6cfa8544f276",
   "metadata": {},
   "outputs": [],
   "source": [
    "test3_1"
   ]
  },
  {
   "cell_type": "code",
   "execution_count": null,
   "id": "190e4fe0-587c-47a3-82e4-7f5e354d4245",
   "metadata": {},
   "outputs": [],
   "source": [
    "model = ExponentialSmoothing(train3_1, seasonal='add', seasonal_periods=12, trend='add', damped_trend=False)\n",
    "fit_model = model.fit()\n",
    "forecast_values3 = fit_model.forecast(steps=len(test3_1))"
   ]
  },
  {
   "cell_type": "code",
   "execution_count": null,
   "id": "0a4e4b14-cb28-429e-a281-e4dd9f9bcaee",
   "metadata": {},
   "outputs": [],
   "source": [
    "# Calculate Mean Absolute Error (MAE)\n",
    "mae3_1 = mean_absolute_error(test3_1, forecast_values3)\n",
    "print(f\"Mean Absolute Error (MAE): {mae3_1}\")\n",
    "\n",
    "# Calculate Mean Squared Error (MSE)\n",
    "mse3_1 = mean_squared_error(test3_1, forecast_values3)\n",
    "print(f\"Mean Squared Error (MSE): {mse3_1}\")\n",
    "\n",
    "rmse3_1 = np.sqrt(mse3_1)\n",
    "print(f\"Root Mean Squared Error (RMSE): {rmse3_1}\")"
   ]
  },
  {
   "cell_type": "code",
   "execution_count": null,
   "id": "67b4a5ae-f69d-4efb-97f3-1907752da693",
   "metadata": {},
   "outputs": [],
   "source": [
    "FF = pd.DataFrame(forecast_values3)"
   ]
  },
  {
   "cell_type": "code",
   "execution_count": null,
   "id": "86794515-d220-4955-b54d-53312fd22afc",
   "metadata": {},
   "outputs": [],
   "source": [
    "FF"
   ]
  },
  {
   "cell_type": "code",
   "execution_count": null,
   "id": "d8add6a9-1101-4476-a196-778f0fdf5512",
   "metadata": {},
   "outputs": [],
   "source": [
    "MM = pd.concat([train3_1,test3_1, FF], axis =1)"
   ]
  },
  {
   "cell_type": "code",
   "execution_count": null,
   "id": "3b6804f8-b918-408f-a622-fb7d500777c4",
   "metadata": {},
   "outputs": [],
   "source": [
    "MM.columns = [\"Train\", \"Test\", \"Forecast\"]\n",
    "MM"
   ]
  },
  {
   "cell_type": "code",
   "execution_count": null,
   "id": "739d4326-f135-4c0c-a6f5-adb5459525e9",
   "metadata": {},
   "outputs": [],
   "source": [
    "MM.iloc[:].plot(figsize=(12,6)).autoscale(axis='x',tight=True);"
   ]
  },
  {
   "cell_type": "code",
   "execution_count": null,
   "id": "50410758-337a-473d-86d9-8ce65755ad80",
   "metadata": {},
   "outputs": [],
   "source": [
    "model = ExponentialSmoothing(train3_1, seasonal='mul', seasonal_periods=12, trend='mul', damped_trend=False)\n",
    "fit_model = model.fit()\n",
    "forecast_values3 = fit_model.forecast(steps=len(test3_1))"
   ]
  },
  {
   "cell_type": "code",
   "execution_count": null,
   "id": "fe195fa5-1492-4d2e-b538-b6912a155c82",
   "metadata": {},
   "outputs": [],
   "source": [
    "# Calculate Mean Absolute Error (MAE)\n",
    "mae3_1 = mean_absolute_error(test3_1, forecast_values3)\n",
    "print(f\"Mean Absolute Error (MAE): {mae3_1}\")\n",
    "\n",
    "# Calculate Mean Squared Error (MSE)\n",
    "mse3_1 = mean_squared_error(test3_1, forecast_values3)\n",
    "print(f\"Mean Squared Error (MSE): {mse3_1}\")\n",
    "\n",
    "rmse3_1 = np.sqrt(mse3_1)\n",
    "print(f\"Root Mean Squared Error (RMSE): {rmse3_1}\")"
   ]
  },
  {
   "cell_type": "code",
   "execution_count": null,
   "id": "50d1dc75-a828-4bd9-bc6e-031d5f67d2d3",
   "metadata": {},
   "outputs": [],
   "source": [
    "FF = pd.DataFrame(forecast_values3)"
   ]
  },
  {
   "cell_type": "code",
   "execution_count": null,
   "id": "f663e036-1a93-482a-8089-1e396f46f8b0",
   "metadata": {},
   "outputs": [],
   "source": [
    "MM = pd.concat([train3_1,test3_1, FF], axis =1)\n",
    "MM.columns = [\"Train\", \"Test\", \"Forecast\"]\n",
    "MM.iloc[:].plot(figsize=(12,6)).autoscale(axis='x',tight=True);"
   ]
  },
  {
   "cell_type": "code",
   "execution_count": null,
   "id": "db47a608-0e30-41b6-baef-215db5c90ed4",
   "metadata": {},
   "outputs": [],
   "source": []
  }
 ],
 "metadata": {
  "kernelspec": {
   "display_name": "Python 3 (ipykernel)",
   "language": "python",
   "name": "python3"
  },
  "language_info": {
   "codemirror_mode": {
    "name": "ipython",
    "version": 3
   },
   "file_extension": ".py",
   "mimetype": "text/x-python",
   "name": "python",
   "nbconvert_exporter": "python",
   "pygments_lexer": "ipython3",
   "version": "3.11.5"
  }
 },
 "nbformat": 4,
 "nbformat_minor": 5
}
