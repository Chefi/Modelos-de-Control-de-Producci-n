{
 "cells": [
  {
   "cell_type": "code",
   "execution_count": null,
   "id": "3a171d80-ab96-4a9d-861e-084d6070ac10",
   "metadata": {},
   "outputs": [],
   "source": []
  }
 ],
 "metadata": {
  "kernelspec": {
   "display_name": "",
   "name": ""
  },
  "language_info": {
   "name": ""
  }
 },
 "nbformat": 4,
 "nbformat_minor": 5
}
